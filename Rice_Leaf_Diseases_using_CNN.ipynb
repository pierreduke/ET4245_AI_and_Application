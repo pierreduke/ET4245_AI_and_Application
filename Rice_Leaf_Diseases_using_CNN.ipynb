{
  "nbformat": 4,
  "nbformat_minor": 0,
  "metadata": {
    "colab": {
      "name": "Untitled8.ipynb",
      "provenance": [],
      "collapsed_sections": [],
      "authorship_tag": "ABX9TyMuT+6B+yon6Z16/L3E3Hol",
      "include_colab_link": true
    },
    "kernelspec": {
      "name": "python3",
      "display_name": "Python 3"
    },
    "language_info": {
      "name": "python"
    },
    "accelerator": "GPU"
  },
  "cells": [
    {
      "cell_type": "markdown",
      "metadata": {
        "id": "view-in-github",
        "colab_type": "text"
      },
      "source": [
        "<a href=\"https://colab.research.google.com/github/pierreduke/ET4245_AI_and_Application/blob/main/Rice_Leaf_Diseases_using_CNN.ipynb\" target=\"_parent\"><img src=\"https://colab.research.google.com/assets/colab-badge.svg\" alt=\"Open In Colab\"/></a>"
      ]
    },
    {
      "cell_type": "code",
      "metadata": {
        "colab": {
          "base_uri": "https://localhost:8080/"
        },
        "id": "q0VhLGAAErDj",
        "outputId": "6aea1429-de1e-4b9d-a100-bb5e3c422f22"
      },
      "source": [
        "from google.colab import drive\n",
        "drive._mount('/content/drive')"
      ],
      "execution_count": 1,
      "outputs": [
        {
          "output_type": "stream",
          "name": "stdout",
          "text": [
            "Mounted at /content/drive\n"
          ]
        }
      ]
    },
    {
      "cell_type": "code",
      "metadata": {
        "id": "Itkm5M0wZXlN",
        "colab": {
          "base_uri": "https://localhost:8080/"
        },
        "outputId": "832749f0-29a7-479b-acd1-c2b2cb4fe2f6"
      },
      "source": [
        "!unzip /content/drive/MyDrive/ImgProc/rice_disease.zip"
      ],
      "execution_count": 2,
      "outputs": [
        {
          "output_type": "stream",
          "name": "stdout",
          "text": [
            "Archive:  /content/drive/MyDrive/ImgProc/rice_disease.zip\n",
            "   creating: rice_disease/\n",
            "   creating: rice_disease/test/\n",
            "   creating: rice_disease/test/Bacterial leaf blight/\n",
            "  inflating: rice_disease/test/Bacterial leaf blight/DSC_0374.JPG  \n",
            "  inflating: rice_disease/test/Bacterial leaf blight/DSC_0378.JPG  \n",
            "  inflating: rice_disease/test/Bacterial leaf blight/DSC_0379.JPG  \n",
            "  inflating: rice_disease/test/Bacterial leaf blight/DSC_0380.JPG  \n",
            "  inflating: rice_disease/test/Bacterial leaf blight/DSC_0388.JPG  \n",
            "  inflating: rice_disease/test/Bacterial leaf blight/DSC_0390.JPG  \n",
            "  inflating: rice_disease/test/Bacterial leaf blight/DSC_0392.JPG  \n",
            "  inflating: rice_disease/test/Bacterial leaf blight/DSC_0393.JPG  \n",
            "  inflating: rice_disease/test/Bacterial leaf blight/DSC_0395.JPG  \n",
            "  inflating: rice_disease/test/Bacterial leaf blight/DSC_0404.JPG  \n",
            "  inflating: rice_disease/test/Bacterial leaf blight/DSC_0405.JPG  \n",
            "  inflating: rice_disease/test/Bacterial leaf blight/DSC_0700.jpg  \n",
            "  inflating: rice_disease/test/Bacterial leaf blight/DSC_0701.jpg  \n",
            "  inflating: rice_disease/test/Bacterial leaf blight/DSC_0702.jpg  \n",
            "  inflating: rice_disease/test/Bacterial leaf blight/DSC_0703.JPG  \n",
            "   creating: rice_disease/test/Brown spot/\n",
            "  inflating: rice_disease/test/Brown spot/DSC_0108.jpg  \n",
            "  inflating: rice_disease/test/Brown spot/DSC_0112.jpg  \n",
            "  inflating: rice_disease/test/Brown spot/DSC_0113.jpg  \n",
            "  inflating: rice_disease/test/Brown spot/DSC_0114.jpg  \n",
            "  inflating: rice_disease/test/Brown spot/DSC_0292.JPG  \n",
            "  inflating: rice_disease/test/Brown spot/DSC_0296.jpg  \n",
            "  inflating: rice_disease/test/Brown spot/DSC_0299.JPG  \n",
            "  inflating: rice_disease/test/Brown spot/DSC_0300.JPG  \n",
            "  inflating: rice_disease/test/Brown spot/DSC_0301.JPG  \n",
            "  inflating: rice_disease/test/Brown spot/DSC_0325.JPG  \n",
            "  inflating: rice_disease/test/Brown spot/DSC_0329.jpg  \n",
            "  inflating: rice_disease/test/Brown spot/DSC_0333.JPG  \n",
            "  inflating: rice_disease/test/Brown spot/DSC_0337.JPG  \n",
            "  inflating: rice_disease/test/Brown spot/DSC_0391.jpg  \n",
            "  inflating: rice_disease/test/Brown spot/DSC_0394.jpg  \n",
            "   creating: rice_disease/test/Leaf smut/\n",
            "  inflating: rice_disease/test/Leaf smut/DSC_0314.JPG  \n",
            "  inflating: rice_disease/test/Leaf smut/DSC_0318.JPG  \n",
            "  inflating: rice_disease/test/Leaf smut/DSC_0319.jpg  \n",
            "  inflating: rice_disease/test/Leaf smut/DSC_0320.JPG  \n",
            "  inflating: rice_disease/test/Leaf smut/DSC_0335.JPG  \n",
            "  inflating: rice_disease/test/Leaf smut/DSC_0338.JPG  \n",
            "  inflating: rice_disease/test/Leaf smut/DSC_0339.jpg  \n",
            "  inflating: rice_disease/test/Leaf smut/DSC_0500.jpg  \n",
            "  inflating: rice_disease/test/Leaf smut/DSC_0501.jpg  \n",
            "  inflating: rice_disease/test/Leaf smut/DSC_0510.jpg  \n",
            "  inflating: rice_disease/test/Leaf smut/DSC_0511.jpg  \n",
            "  inflating: rice_disease/test/Leaf smut/DSC_0513.jpg  \n",
            "  inflating: rice_disease/test/Leaf smut/DSC_0514.jpg  \n",
            "  inflating: rice_disease/test/Leaf smut/DSC_0515.jpg  \n",
            "  inflating: rice_disease/test/Leaf smut/DSC_0516.jpg  \n",
            "   creating: rice_disease/train/\n",
            "   creating: rice_disease/train/Bacterial leaf blight/\n",
            "  inflating: rice_disease/train/Bacterial leaf blight/DSC_0365.JPG  \n",
            "  inflating: rice_disease/train/Bacterial leaf blight/DSC_0366.jpg  \n",
            "  inflating: rice_disease/train/Bacterial leaf blight/DSC_0367.JPG  \n",
            "  inflating: rice_disease/train/Bacterial leaf blight/DSC_0370.jpg  \n",
            "  inflating: rice_disease/train/Bacterial leaf blight/DSC_0373.JPG  \n",
            "  inflating: rice_disease/train/Bacterial leaf blight/DSC_0375.JPG  \n",
            "  inflating: rice_disease/train/Bacterial leaf blight/DSC_0376.JPG  \n",
            "  inflating: rice_disease/train/Bacterial leaf blight/DSC_0377.JPG  \n",
            "  inflating: rice_disease/train/Bacterial leaf blight/DSC_0381.JPG  \n",
            "  inflating: rice_disease/train/Bacterial leaf blight/DSC_0382.JPG  \n",
            "  inflating: rice_disease/train/Bacterial leaf blight/DSC_0384.JPG  \n",
            "  inflating: rice_disease/train/Bacterial leaf blight/DSC_0386.JPG  \n",
            "  inflating: rice_disease/train/Bacterial leaf blight/DSC_0389.JPG  \n",
            "  inflating: rice_disease/train/Bacterial leaf blight/DSC_0396.JPG  \n",
            "  inflating: rice_disease/train/Bacterial leaf blight/DSC_0399.JPG  \n",
            "  inflating: rice_disease/train/Bacterial leaf blight/DSC_0400.JPG  \n",
            "  inflating: rice_disease/train/Bacterial leaf blight/DSC_0401.JPG  \n",
            "  inflating: rice_disease/train/Bacterial leaf blight/DSC_0402.JPG  \n",
            "  inflating: rice_disease/train/Bacterial leaf blight/DSC_0403.JPG  \n",
            "  inflating: rice_disease/train/Bacterial leaf blight/DSC_0406.JPG  \n",
            "  inflating: rice_disease/train/Bacterial leaf blight/rice_0_1021.jpg  \n",
            "  inflating: rice_disease/train/Bacterial leaf blight/rice_0_1055.jpg  \n",
            "  inflating: rice_disease/train/Bacterial leaf blight/rice_0_1098.jpg  \n",
            "  inflating: rice_disease/train/Bacterial leaf blight/rice_0_1103.jpg  \n",
            "  inflating: rice_disease/train/Bacterial leaf blight/rice_0_1142.jpg  \n",
            "  inflating: rice_disease/train/Bacterial leaf blight/rice_0_1199.jpg  \n",
            "  inflating: rice_disease/train/Bacterial leaf blight/rice_0_123.jpg  \n",
            "  inflating: rice_disease/train/Bacterial leaf blight/rice_0_1301.jpg  \n",
            "  inflating: rice_disease/train/Bacterial leaf blight/rice_0_1308.jpg  \n",
            "  inflating: rice_disease/train/Bacterial leaf blight/rice_0_1310.jpg  \n",
            "  inflating: rice_disease/train/Bacterial leaf blight/rice_0_1411.jpg  \n",
            "  inflating: rice_disease/train/Bacterial leaf blight/rice_0_1488.jpg  \n",
            "  inflating: rice_disease/train/Bacterial leaf blight/rice_0_1508.jpg  \n",
            "  inflating: rice_disease/train/Bacterial leaf blight/rice_0_165.jpg  \n",
            "  inflating: rice_disease/train/Bacterial leaf blight/rice_0_1659.jpg  \n",
            "  inflating: rice_disease/train/Bacterial leaf blight/rice_0_1668.jpg  \n",
            "  inflating: rice_disease/train/Bacterial leaf blight/rice_0_1690.jpg  \n",
            "  inflating: rice_disease/train/Bacterial leaf blight/rice_0_1728.jpg  \n",
            "  inflating: rice_disease/train/Bacterial leaf blight/rice_0_1745.jpg  \n",
            "  inflating: rice_disease/train/Bacterial leaf blight/rice_0_176.jpg  \n",
            "  inflating: rice_disease/train/Bacterial leaf blight/rice_0_1782.jpg  \n",
            "  inflating: rice_disease/train/Bacterial leaf blight/rice_0_1807.jpg  \n",
            "  inflating: rice_disease/train/Bacterial leaf blight/rice_0_1892.jpg  \n",
            "  inflating: rice_disease/train/Bacterial leaf blight/rice_0_1945.jpg  \n",
            "  inflating: rice_disease/train/Bacterial leaf blight/rice_0_1979.jpg  \n",
            "  inflating: rice_disease/train/Bacterial leaf blight/rice_0_1983.jpg  \n",
            "  inflating: rice_disease/train/Bacterial leaf blight/rice_0_2059.jpg  \n",
            "  inflating: rice_disease/train/Bacterial leaf blight/rice_0_2095.jpg  \n",
            "  inflating: rice_disease/train/Bacterial leaf blight/rice_0_2114.jpg  \n",
            "  inflating: rice_disease/train/Bacterial leaf blight/rice_0_2166.jpg  \n",
            "  inflating: rice_disease/train/Bacterial leaf blight/rice_0_2189.jpg  \n",
            "  inflating: rice_disease/train/Bacterial leaf blight/rice_0_2214.jpg  \n",
            "  inflating: rice_disease/train/Bacterial leaf blight/rice_0_2263.jpg  \n",
            "  inflating: rice_disease/train/Bacterial leaf blight/rice_0_2297.jpg  \n",
            "  inflating: rice_disease/train/Bacterial leaf blight/rice_0_2327.jpg  \n",
            "  inflating: rice_disease/train/Bacterial leaf blight/rice_0_2383.jpg  \n",
            "  inflating: rice_disease/train/Bacterial leaf blight/rice_0_240.jpg  \n",
            "  inflating: rice_disease/train/Bacterial leaf blight/rice_0_2419.jpg  \n",
            "  inflating: rice_disease/train/Bacterial leaf blight/rice_0_243.jpg  \n",
            "  inflating: rice_disease/train/Bacterial leaf blight/rice_0_2461.jpg  \n",
            "  inflating: rice_disease/train/Bacterial leaf blight/rice_0_2520.jpg  \n",
            "  inflating: rice_disease/train/Bacterial leaf blight/rice_0_2542.jpg  \n",
            "  inflating: rice_disease/train/Bacterial leaf blight/rice_0_2560.jpg  \n",
            "  inflating: rice_disease/train/Bacterial leaf blight/rice_0_2569.jpg  \n",
            "  inflating: rice_disease/train/Bacterial leaf blight/rice_0_2572.jpg  \n",
            "  inflating: rice_disease/train/Bacterial leaf blight/rice_0_2603.jpg  \n",
            "  inflating: rice_disease/train/Bacterial leaf blight/rice_0_2799.jpg  \n",
            "  inflating: rice_disease/train/Bacterial leaf blight/rice_0_2821.jpg  \n",
            "  inflating: rice_disease/train/Bacterial leaf blight/rice_0_2868.jpg  \n",
            "  inflating: rice_disease/train/Bacterial leaf blight/rice_0_2875.jpg  \n",
            "  inflating: rice_disease/train/Bacterial leaf blight/rice_0_2899.jpg  \n",
            "  inflating: rice_disease/train/Bacterial leaf blight/rice_0_2939.jpg  \n",
            "  inflating: rice_disease/train/Bacterial leaf blight/rice_0_3005.jpg  \n",
            "  inflating: rice_disease/train/Bacterial leaf blight/rice_0_303.jpg  \n",
            "  inflating: rice_disease/train/Bacterial leaf blight/rice_0_3132.jpg  \n",
            "  inflating: rice_disease/train/Bacterial leaf blight/rice_0_3184.jpg  \n",
            "  inflating: rice_disease/train/Bacterial leaf blight/rice_0_3257.jpg  \n",
            "  inflating: rice_disease/train/Bacterial leaf blight/rice_0_3266.jpg  \n",
            "  inflating: rice_disease/train/Bacterial leaf blight/rice_0_331.jpg  \n",
            "  inflating: rice_disease/train/Bacterial leaf blight/rice_0_3342.jpg  \n",
            "  inflating: rice_disease/train/Bacterial leaf blight/rice_0_3387.jpg  \n",
            "  inflating: rice_disease/train/Bacterial leaf blight/rice_0_3395.jpg  \n",
            "  inflating: rice_disease/train/Bacterial leaf blight/rice_0_3420.jpg  \n",
            "  inflating: rice_disease/train/Bacterial leaf blight/rice_0_3466.jpg  \n",
            "  inflating: rice_disease/train/Bacterial leaf blight/rice_0_3506.jpg  \n",
            "  inflating: rice_disease/train/Bacterial leaf blight/rice_0_3549.jpg  \n",
            "  inflating: rice_disease/train/Bacterial leaf blight/rice_0_356.jpg  \n",
            "  inflating: rice_disease/train/Bacterial leaf blight/rice_0_3718.jpg  \n",
            "  inflating: rice_disease/train/Bacterial leaf blight/rice_0_3758.jpg  \n",
            "  inflating: rice_disease/train/Bacterial leaf blight/rice_0_3804.jpg  \n",
            "  inflating: rice_disease/train/Bacterial leaf blight/rice_0_3874.jpg  \n",
            "  inflating: rice_disease/train/Bacterial leaf blight/rice_0_3901.jpg  \n",
            "  inflating: rice_disease/train/Bacterial leaf blight/rice_0_3958.jpg  \n",
            "  inflating: rice_disease/train/Bacterial leaf blight/rice_0_4146.jpg  \n",
            "  inflating: rice_disease/train/Bacterial leaf blight/rice_0_4161.jpg  \n",
            "  inflating: rice_disease/train/Bacterial leaf blight/rice_0_4212.jpg  \n",
            "  inflating: rice_disease/train/Bacterial leaf blight/rice_0_4258.jpg  \n",
            "  inflating: rice_disease/train/Bacterial leaf blight/rice_0_4264.jpg  \n",
            "  inflating: rice_disease/train/Bacterial leaf blight/rice_0_428.jpg  \n",
            "  inflating: rice_disease/train/Bacterial leaf blight/rice_0_4351.jpg  \n",
            "  inflating: rice_disease/train/Bacterial leaf blight/rice_0_4352.jpg  \n",
            "  inflating: rice_disease/train/Bacterial leaf blight/rice_0_4390.jpg  \n",
            "  inflating: rice_disease/train/Bacterial leaf blight/rice_0_4398.jpg  \n",
            "  inflating: rice_disease/train/Bacterial leaf blight/rice_0_4456.jpg  \n",
            "  inflating: rice_disease/train/Bacterial leaf blight/rice_0_455.jpg  \n",
            "  inflating: rice_disease/train/Bacterial leaf blight/rice_0_459.jpg  \n",
            "  inflating: rice_disease/train/Bacterial leaf blight/rice_0_4607.jpg  \n",
            "  inflating: rice_disease/train/Bacterial leaf blight/rice_0_4657.jpg  \n",
            "  inflating: rice_disease/train/Bacterial leaf blight/rice_0_471.jpg  \n",
            "  inflating: rice_disease/train/Bacterial leaf blight/rice_0_4772.jpg  \n",
            "  inflating: rice_disease/train/Bacterial leaf blight/rice_0_478.jpg  \n",
            "  inflating: rice_disease/train/Bacterial leaf blight/rice_0_4863.jpg  \n",
            "  inflating: rice_disease/train/Bacterial leaf blight/rice_0_4867.jpg  \n",
            "  inflating: rice_disease/train/Bacterial leaf blight/rice_0_4897.jpg  \n",
            "  inflating: rice_disease/train/Bacterial leaf blight/rice_0_4982.jpg  \n",
            "  inflating: rice_disease/train/Bacterial leaf blight/rice_0_503.jpg  \n",
            "  inflating: rice_disease/train/Bacterial leaf blight/rice_0_505.jpg  \n",
            "  inflating: rice_disease/train/Bacterial leaf blight/rice_0_5179.jpg  \n",
            "  inflating: rice_disease/train/Bacterial leaf blight/rice_0_5197.jpg  \n",
            "  inflating: rice_disease/train/Bacterial leaf blight/rice_0_5314.jpg  \n",
            "  inflating: rice_disease/train/Bacterial leaf blight/rice_0_5328.jpg  \n",
            "  inflating: rice_disease/train/Bacterial leaf blight/rice_0_5342.jpg  \n",
            "  inflating: rice_disease/train/Bacterial leaf blight/rice_0_5452.jpg  \n",
            "  inflating: rice_disease/train/Bacterial leaf blight/rice_0_5479.jpg  \n",
            "  inflating: rice_disease/train/Bacterial leaf blight/rice_0_5480.jpg  \n",
            "  inflating: rice_disease/train/Bacterial leaf blight/rice_0_5508.jpg  \n",
            "  inflating: rice_disease/train/Bacterial leaf blight/rice_0_5509.jpg  \n",
            "  inflating: rice_disease/train/Bacterial leaf blight/rice_0_5520.jpg  \n",
            "  inflating: rice_disease/train/Bacterial leaf blight/rice_0_5624.jpg  \n",
            "  inflating: rice_disease/train/Bacterial leaf blight/rice_0_5709.jpg  \n",
            "  inflating: rice_disease/train/Bacterial leaf blight/rice_0_5719.jpg  \n",
            "  inflating: rice_disease/train/Bacterial leaf blight/rice_0_5723.jpg  \n",
            "  inflating: rice_disease/train/Bacterial leaf blight/rice_0_5785.jpg  \n",
            "  inflating: rice_disease/train/Bacterial leaf blight/rice_0_5836.jpg  \n",
            "  inflating: rice_disease/train/Bacterial leaf blight/rice_0_585.jpg  \n",
            "  inflating: rice_disease/train/Bacterial leaf blight/rice_0_6149.jpg  \n",
            "  inflating: rice_disease/train/Bacterial leaf blight/rice_0_6163.jpg  \n",
            "  inflating: rice_disease/train/Bacterial leaf blight/rice_0_621.jpg  \n",
            "  inflating: rice_disease/train/Bacterial leaf blight/rice_0_6300.jpg  \n",
            "  inflating: rice_disease/train/Bacterial leaf blight/rice_0_6307.jpg  \n",
            "  inflating: rice_disease/train/Bacterial leaf blight/rice_0_6308.jpg  \n",
            "  inflating: rice_disease/train/Bacterial leaf blight/rice_0_643.jpg  \n",
            "  inflating: rice_disease/train/Bacterial leaf blight/rice_0_6551.jpg  \n",
            "  inflating: rice_disease/train/Bacterial leaf blight/rice_0_6818.jpg  \n",
            "  inflating: rice_disease/train/Bacterial leaf blight/rice_0_6845.jpg  \n",
            "  inflating: rice_disease/train/Bacterial leaf blight/rice_0_694.jpg  \n",
            "  inflating: rice_disease/train/Bacterial leaf blight/rice_0_6989.jpg  \n",
            "  inflating: rice_disease/train/Bacterial leaf blight/rice_0_7006.jpg  \n",
            "  inflating: rice_disease/train/Bacterial leaf blight/rice_0_7070.jpg  \n",
            "  inflating: rice_disease/train/Bacterial leaf blight/rice_0_7115.jpg  \n",
            "  inflating: rice_disease/train/Bacterial leaf blight/rice_0_7155.jpg  \n",
            "  inflating: rice_disease/train/Bacterial leaf blight/rice_0_7178.jpg  \n",
            "  inflating: rice_disease/train/Bacterial leaf blight/rice_0_7258.jpg  \n",
            "  inflating: rice_disease/train/Bacterial leaf blight/rice_0_7333.jpg  \n",
            "  inflating: rice_disease/train/Bacterial leaf blight/rice_0_7377.jpg  \n",
            "  inflating: rice_disease/train/Bacterial leaf blight/rice_0_738.jpg  \n",
            "  inflating: rice_disease/train/Bacterial leaf blight/rice_0_7382.jpg  \n",
            "  inflating: rice_disease/train/Bacterial leaf blight/rice_0_7463.jpg  \n",
            "  inflating: rice_disease/train/Bacterial leaf blight/rice_0_7480.jpg  \n",
            "  inflating: rice_disease/train/Bacterial leaf blight/rice_0_7499.jpg  \n",
            "  inflating: rice_disease/train/Bacterial leaf blight/rice_0_7537.jpg  \n",
            "  inflating: rice_disease/train/Bacterial leaf blight/rice_0_7578.jpg  \n",
            "  inflating: rice_disease/train/Bacterial leaf blight/rice_0_7608.jpg  \n",
            "  inflating: rice_disease/train/Bacterial leaf blight/rice_0_7610.jpg  \n",
            "  inflating: rice_disease/train/Bacterial leaf blight/rice_0_7850.jpg  \n",
            "  inflating: rice_disease/train/Bacterial leaf blight/rice_0_7984.jpg  \n",
            "  inflating: rice_disease/train/Bacterial leaf blight/rice_0_7991.jpg  \n",
            "  inflating: rice_disease/train/Bacterial leaf blight/rice_0_7998.jpg  \n",
            "  inflating: rice_disease/train/Bacterial leaf blight/rice_0_8026.jpg  \n",
            "  inflating: rice_disease/train/Bacterial leaf blight/rice_0_8094.jpg  \n",
            "  inflating: rice_disease/train/Bacterial leaf blight/rice_0_8110.jpg  \n",
            "  inflating: rice_disease/train/Bacterial leaf blight/rice_0_8111.jpg  \n",
            "  inflating: rice_disease/train/Bacterial leaf blight/rice_0_8157.jpg  \n",
            "  inflating: rice_disease/train/Bacterial leaf blight/rice_0_8268.jpg  \n",
            "  inflating: rice_disease/train/Bacterial leaf blight/rice_0_8304.jpg  \n",
            "  inflating: rice_disease/train/Bacterial leaf blight/rice_0_8331.jpg  \n",
            "  inflating: rice_disease/train/Bacterial leaf blight/rice_0_8354.jpg  \n",
            "  inflating: rice_disease/train/Bacterial leaf blight/rice_0_8388.jpg  \n",
            "  inflating: rice_disease/train/Bacterial leaf blight/rice_0_8413.jpg  \n",
            "  inflating: rice_disease/train/Bacterial leaf blight/rice_0_8415.jpg  \n",
            "  inflating: rice_disease/train/Bacterial leaf blight/rice_0_8423.jpg  \n",
            "  inflating: rice_disease/train/Bacterial leaf blight/rice_0_8494.jpg  \n",
            "  inflating: rice_disease/train/Bacterial leaf blight/rice_0_85.jpg  \n",
            "  inflating: rice_disease/train/Bacterial leaf blight/rice_0_8521.jpg  \n",
            "  inflating: rice_disease/train/Bacterial leaf blight/rice_0_8543.jpg  \n",
            "  inflating: rice_disease/train/Bacterial leaf blight/rice_0_8598.jpg  \n",
            "  inflating: rice_disease/train/Bacterial leaf blight/rice_0_8600.jpg  \n",
            "  inflating: rice_disease/train/Bacterial leaf blight/rice_0_8632.jpg  \n",
            "  inflating: rice_disease/train/Bacterial leaf blight/rice_0_8664.jpg  \n",
            "  inflating: rice_disease/train/Bacterial leaf blight/rice_0_8693.jpg  \n",
            "  inflating: rice_disease/train/Bacterial leaf blight/rice_0_8694.jpg  \n",
            "  inflating: rice_disease/train/Bacterial leaf blight/rice_0_872.jpg  \n",
            "  inflating: rice_disease/train/Bacterial leaf blight/rice_0_8761.jpg  \n",
            "  inflating: rice_disease/train/Bacterial leaf blight/rice_0_8772.jpg  \n",
            "  inflating: rice_disease/train/Bacterial leaf blight/rice_0_8783.jpg  \n",
            "  inflating: rice_disease/train/Bacterial leaf blight/rice_0_8963.jpg  \n",
            "  inflating: rice_disease/train/Bacterial leaf blight/rice_0_8991.jpg  \n",
            "  inflating: rice_disease/train/Bacterial leaf blight/rice_0_9039.jpg  \n",
            "  inflating: rice_disease/train/Bacterial leaf blight/rice_0_9083.jpg  \n",
            "  inflating: rice_disease/train/Bacterial leaf blight/rice_0_9155.jpg  \n",
            "  inflating: rice_disease/train/Bacterial leaf blight/rice_0_9207.jpg  \n",
            "  inflating: rice_disease/train/Bacterial leaf blight/rice_0_9289.jpg  \n",
            "  inflating: rice_disease/train/Bacterial leaf blight/rice_0_9401.jpg  \n",
            "  inflating: rice_disease/train/Bacterial leaf blight/rice_0_9424.jpg  \n",
            "  inflating: rice_disease/train/Bacterial leaf blight/rice_0_9457.jpg  \n",
            "  inflating: rice_disease/train/Bacterial leaf blight/rice_0_956.jpg  \n",
            "  inflating: rice_disease/train/Bacterial leaf blight/rice_0_9574.jpg  \n",
            "  inflating: rice_disease/train/Bacterial leaf blight/rice_0_9581.jpg  \n",
            "  inflating: rice_disease/train/Bacterial leaf blight/rice_0_9613.jpg  \n",
            "  inflating: rice_disease/train/Bacterial leaf blight/rice_0_9639.jpg  \n",
            "  inflating: rice_disease/train/Bacterial leaf blight/rice_0_9694.jpg  \n",
            "  inflating: rice_disease/train/Bacterial leaf blight/rice_0_9835.jpg  \n",
            "  inflating: rice_disease/train/Bacterial leaf blight/rice_0_9839.jpg  \n",
            "  inflating: rice_disease/train/Bacterial leaf blight/rice_0_992.jpg  \n",
            "  inflating: rice_disease/train/Bacterial leaf blight/rice_0_994.jpg  \n",
            "  inflating: rice_disease/train/Bacterial leaf blight/rice_0_9983.jpg  \n",
            "  inflating: rice_disease/train/Bacterial leaf blight/rice_0_9993.jpg  \n",
            "  inflating: rice_disease/train/Bacterial leaf blight/rice_0_9995.jpg  \n",
            "   creating: rice_disease/train/Brown spot/\n",
            "  inflating: rice_disease/train/Brown spot/DSC_0100.jpg  \n",
            "  inflating: rice_disease/train/Brown spot/DSC_0101.jpg  \n",
            "  inflating: rice_disease/train/Brown spot/DSC_0104.jpg  \n",
            "  inflating: rice_disease/train/Brown spot/DSC_0105.jpg  \n",
            "  inflating: rice_disease/train/Brown spot/DSC_0107.jpg  \n",
            "  inflating: rice_disease/train/Brown spot/DSC_0109.jpg  \n",
            "  inflating: rice_disease/train/Brown spot/DSC_0110.jpg  \n",
            "  inflating: rice_disease/train/Brown spot/DSC_0111.jpg  \n",
            "  inflating: rice_disease/train/Brown spot/DSC_0115.jpg  \n",
            "  inflating: rice_disease/train/Brown spot/DSC_0116.jpg  \n",
            "  inflating: rice_disease/train/Brown spot/DSC_0118.jpg  \n",
            "  inflating: rice_disease/train/Brown spot/DSC_0121.jpg  \n",
            "  inflating: rice_disease/train/Brown spot/DSC_0295.JPG  \n",
            "  inflating: rice_disease/train/Brown spot/DSC_0302.JPG  \n",
            "  inflating: rice_disease/train/Brown spot/DSC_0305.JPG  \n",
            "  inflating: rice_disease/train/Brown spot/DSC_0306.JPG  \n",
            "  inflating: rice_disease/train/Brown spot/DSC_0307.JPG  \n",
            "  inflating: rice_disease/train/Brown spot/DSC_0323.JPG  \n",
            "  inflating: rice_disease/train/Brown spot/DSC_0324.JPG  \n",
            "  inflating: rice_disease/train/Brown spot/DSC_0332.JPG  \n",
            "  inflating: rice_disease/train/Brown spot/rice_0_1069.jpg  \n",
            "  inflating: rice_disease/train/Brown spot/rice_0_107.jpg  \n",
            "  inflating: rice_disease/train/Brown spot/rice_0_1100.jpg  \n",
            "  inflating: rice_disease/train/Brown spot/rice_0_1140.jpg  \n",
            "  inflating: rice_disease/train/Brown spot/rice_0_1181.jpg  \n",
            "  inflating: rice_disease/train/Brown spot/rice_0_1248.jpg  \n",
            "  inflating: rice_disease/train/Brown spot/rice_0_1287.jpg  \n",
            "  inflating: rice_disease/train/Brown spot/rice_0_1407.jpg  \n",
            "  inflating: rice_disease/train/Brown spot/rice_0_1428.jpg  \n",
            "  inflating: rice_disease/train/Brown spot/rice_0_145.jpg  \n",
            "  inflating: rice_disease/train/Brown spot/rice_0_1493.jpg  \n",
            "  inflating: rice_disease/train/Brown spot/rice_0_1595.jpg  \n",
            "  inflating: rice_disease/train/Brown spot/rice_0_1626.jpg  \n",
            "  inflating: rice_disease/train/Brown spot/rice_0_1637.jpg  \n",
            "  inflating: rice_disease/train/Brown spot/rice_0_1742.jpg  \n",
            "  inflating: rice_disease/train/Brown spot/rice_0_1822.jpg  \n",
            "  inflating: rice_disease/train/Brown spot/rice_0_1899.jpg  \n",
            "  inflating: rice_disease/train/Brown spot/rice_0_1955.jpg  \n",
            "  inflating: rice_disease/train/Brown spot/rice_0_1968.jpg  \n",
            "  inflating: rice_disease/train/Brown spot/rice_0_1996.jpg  \n",
            "  inflating: rice_disease/train/Brown spot/rice_0_2001.jpg  \n",
            "  inflating: rice_disease/train/Brown spot/rice_0_2004.jpg  \n",
            "  inflating: rice_disease/train/Brown spot/rice_0_2048.jpg  \n",
            "  inflating: rice_disease/train/Brown spot/rice_0_2155.jpg  \n",
            "  inflating: rice_disease/train/Brown spot/rice_0_2237.jpg  \n",
            "  inflating: rice_disease/train/Brown spot/rice_0_225.jpg  \n",
            "  inflating: rice_disease/train/Brown spot/rice_0_2287.jpg  \n",
            "  inflating: rice_disease/train/Brown spot/rice_0_2306.jpg  \n",
            "  inflating: rice_disease/train/Brown spot/rice_0_2307.jpg  \n",
            "  inflating: rice_disease/train/Brown spot/rice_0_242.jpg  \n",
            "  inflating: rice_disease/train/Brown spot/rice_0_2562.jpg  \n",
            "  inflating: rice_disease/train/Brown spot/rice_0_2576.jpg  \n",
            "  inflating: rice_disease/train/Brown spot/rice_0_2579.jpg  \n",
            "  inflating: rice_disease/train/Brown spot/rice_0_2756.jpg  \n",
            "  inflating: rice_disease/train/Brown spot/rice_0_2769.jpg  \n",
            "  inflating: rice_disease/train/Brown spot/rice_0_2856.jpg  \n",
            "  inflating: rice_disease/train/Brown spot/rice_0_2918.jpg  \n",
            "  inflating: rice_disease/train/Brown spot/rice_0_2931.jpg  \n",
            "  inflating: rice_disease/train/Brown spot/rice_0_295.jpg  \n",
            "  inflating: rice_disease/train/Brown spot/rice_0_2978.jpg  \n",
            "  inflating: rice_disease/train/Brown spot/rice_0_2984.jpg  \n",
            "  inflating: rice_disease/train/Brown spot/rice_0_2986.jpg  \n",
            "  inflating: rice_disease/train/Brown spot/rice_0_301.jpg  \n",
            "  inflating: rice_disease/train/Brown spot/rice_0_3033.jpg  \n",
            "  inflating: rice_disease/train/Brown spot/rice_0_3034.jpg  \n",
            "  inflating: rice_disease/train/Brown spot/rice_0_3059.jpg  \n",
            "  inflating: rice_disease/train/Brown spot/rice_0_3107.jpg  \n",
            "  inflating: rice_disease/train/Brown spot/rice_0_3153.jpg  \n",
            "  inflating: rice_disease/train/Brown spot/rice_0_3317.jpg  \n",
            "  inflating: rice_disease/train/Brown spot/rice_0_3331.jpg  \n",
            "  inflating: rice_disease/train/Brown spot/rice_0_3337.jpg  \n",
            "  inflating: rice_disease/train/Brown spot/rice_0_3413.jpg  \n",
            "  inflating: rice_disease/train/Brown spot/rice_0_3554.jpg  \n",
            "  inflating: rice_disease/train/Brown spot/rice_0_3564.jpg  \n",
            "  inflating: rice_disease/train/Brown spot/rice_0_3612.jpg  \n",
            "  inflating: rice_disease/train/Brown spot/rice_0_3614.jpg  \n",
            "  inflating: rice_disease/train/Brown spot/rice_0_3657.jpg  \n",
            "  inflating: rice_disease/train/Brown spot/rice_0_3673.jpg  \n",
            "  inflating: rice_disease/train/Brown spot/rice_0_3758.jpg  \n",
            "  inflating: rice_disease/train/Brown spot/rice_0_3770.jpg  \n",
            "  inflating: rice_disease/train/Brown spot/rice_0_3801.jpg  \n",
            "  inflating: rice_disease/train/Brown spot/rice_0_3817.jpg  \n",
            "  inflating: rice_disease/train/Brown spot/rice_0_3888.jpg  \n",
            "  inflating: rice_disease/train/Brown spot/rice_0_3891.jpg  \n",
            "  inflating: rice_disease/train/Brown spot/rice_0_3897.jpg  \n",
            "  inflating: rice_disease/train/Brown spot/rice_0_3948.jpg  \n",
            "  inflating: rice_disease/train/Brown spot/rice_0_3961.jpg  \n",
            "  inflating: rice_disease/train/Brown spot/rice_0_4001.jpg  \n",
            "  inflating: rice_disease/train/Brown spot/rice_0_4029.jpg  \n",
            "  inflating: rice_disease/train/Brown spot/rice_0_405.jpg  \n",
            "  inflating: rice_disease/train/Brown spot/rice_0_4069.jpg  \n",
            "  inflating: rice_disease/train/Brown spot/rice_0_4113.jpg  \n",
            "  inflating: rice_disease/train/Brown spot/rice_0_4150.jpg  \n",
            "  inflating: rice_disease/train/Brown spot/rice_0_4193.jpg  \n",
            "  inflating: rice_disease/train/Brown spot/rice_0_4204.jpg  \n",
            "  inflating: rice_disease/train/Brown spot/rice_0_4286.jpg  \n",
            "  inflating: rice_disease/train/Brown spot/rice_0_4401.jpg  \n",
            "  inflating: rice_disease/train/Brown spot/rice_0_4454.jpg  \n",
            "  inflating: rice_disease/train/Brown spot/rice_0_4481.jpg  \n",
            "  inflating: rice_disease/train/Brown spot/rice_0_4500.jpg  \n",
            "  inflating: rice_disease/train/Brown spot/rice_0_4512.jpg  \n",
            "  inflating: rice_disease/train/Brown spot/rice_0_4596.jpg  \n",
            "  inflating: rice_disease/train/Brown spot/rice_0_4639.jpg  \n",
            "  inflating: rice_disease/train/Brown spot/rice_0_4672.jpg  \n",
            "  inflating: rice_disease/train/Brown spot/rice_0_4758.jpg  \n",
            "  inflating: rice_disease/train/Brown spot/rice_0_4814.jpg  \n",
            "  inflating: rice_disease/train/Brown spot/rice_0_482.jpg  \n",
            "  inflating: rice_disease/train/Brown spot/rice_0_4920.jpg  \n",
            "  inflating: rice_disease/train/Brown spot/rice_0_4926.jpg  \n",
            "  inflating: rice_disease/train/Brown spot/rice_0_4936.jpg  \n",
            "  inflating: rice_disease/train/Brown spot/rice_0_4948.jpg  \n",
            "  inflating: rice_disease/train/Brown spot/rice_0_4975.jpg  \n",
            "  inflating: rice_disease/train/Brown spot/rice_0_498.jpg  \n",
            "  inflating: rice_disease/train/Brown spot/rice_0_4982.jpg  \n",
            "  inflating: rice_disease/train/Brown spot/rice_0_5008.jpg  \n",
            "  inflating: rice_disease/train/Brown spot/rice_0_5060.jpg  \n",
            "  inflating: rice_disease/train/Brown spot/rice_0_509.jpg  \n",
            "  inflating: rice_disease/train/Brown spot/rice_0_5222.jpg  \n",
            "  inflating: rice_disease/train/Brown spot/rice_0_5241.jpg  \n",
            "  inflating: rice_disease/train/Brown spot/rice_0_5363.jpg  \n",
            "  inflating: rice_disease/train/Brown spot/rice_0_5520.jpg  \n",
            "  inflating: rice_disease/train/Brown spot/rice_0_5559.jpg  \n",
            "  inflating: rice_disease/train/Brown spot/rice_0_5623.jpg  \n",
            "  inflating: rice_disease/train/Brown spot/rice_0_5630.jpg  \n",
            "  inflating: rice_disease/train/Brown spot/rice_0_5654.jpg  \n",
            "  inflating: rice_disease/train/Brown spot/rice_0_5710.jpg  \n",
            "  inflating: rice_disease/train/Brown spot/rice_0_5728.jpg  \n",
            "  inflating: rice_disease/train/Brown spot/rice_0_5769.jpg  \n",
            "  inflating: rice_disease/train/Brown spot/rice_0_5791.jpg  \n",
            "  inflating: rice_disease/train/Brown spot/rice_0_5890.jpg  \n",
            "  inflating: rice_disease/train/Brown spot/rice_0_5895.jpg  \n",
            "  inflating: rice_disease/train/Brown spot/rice_0_5906.jpg  \n",
            "  inflating: rice_disease/train/Brown spot/rice_0_5946.jpg  \n",
            "  inflating: rice_disease/train/Brown spot/rice_0_6013.jpg  \n",
            "  inflating: rice_disease/train/Brown spot/rice_0_6031.jpg  \n",
            "  inflating: rice_disease/train/Brown spot/rice_0_6152.jpg  \n",
            "  inflating: rice_disease/train/Brown spot/rice_0_6158.jpg  \n",
            "  inflating: rice_disease/train/Brown spot/rice_0_6199.jpg  \n",
            "  inflating: rice_disease/train/Brown spot/rice_0_6370.jpg  \n",
            "  inflating: rice_disease/train/Brown spot/rice_0_6422.jpg  \n",
            "  inflating: rice_disease/train/Brown spot/rice_0_6439.jpg  \n",
            "  inflating: rice_disease/train/Brown spot/rice_0_6473.jpg  \n",
            "  inflating: rice_disease/train/Brown spot/rice_0_6615.jpg  \n",
            "  inflating: rice_disease/train/Brown spot/rice_0_6735.jpg  \n",
            "  inflating: rice_disease/train/Brown spot/rice_0_685.jpg  \n",
            "  inflating: rice_disease/train/Brown spot/rice_0_6916.jpg  \n",
            "  inflating: rice_disease/train/Brown spot/rice_0_694.jpg  \n",
            "  inflating: rice_disease/train/Brown spot/rice_0_6949.jpg  \n",
            "  inflating: rice_disease/train/Brown spot/rice_0_6957.jpg  \n",
            "  inflating: rice_disease/train/Brown spot/rice_0_6959.jpg  \n",
            "  inflating: rice_disease/train/Brown spot/rice_0_7032.jpg  \n",
            "  inflating: rice_disease/train/Brown spot/rice_0_7153.jpg  \n",
            "  inflating: rice_disease/train/Brown spot/rice_0_7261.jpg  \n",
            "  inflating: rice_disease/train/Brown spot/rice_0_7368.jpg  \n",
            "  inflating: rice_disease/train/Brown spot/rice_0_7370.jpg  \n",
            "  inflating: rice_disease/train/Brown spot/rice_0_7396.jpg  \n",
            "  inflating: rice_disease/train/Brown spot/rice_0_7406.jpg  \n",
            "  inflating: rice_disease/train/Brown spot/rice_0_7445.jpg  \n",
            "  inflating: rice_disease/train/Brown spot/rice_0_745.jpg  \n",
            "  inflating: rice_disease/train/Brown spot/rice_0_7499.jpg  \n",
            "  inflating: rice_disease/train/Brown spot/rice_0_7739.jpg  \n",
            "  inflating: rice_disease/train/Brown spot/rice_0_7786.jpg  \n",
            "  inflating: rice_disease/train/Brown spot/rice_0_7832.jpg  \n",
            "  inflating: rice_disease/train/Brown spot/rice_0_7871.jpg  \n",
            "  inflating: rice_disease/train/Brown spot/rice_0_8027.jpg  \n",
            "  inflating: rice_disease/train/Brown spot/rice_0_8058.jpg  \n",
            "  inflating: rice_disease/train/Brown spot/rice_0_8169.jpg  \n",
            "  inflating: rice_disease/train/Brown spot/rice_0_8306.jpg  \n",
            "  inflating: rice_disease/train/Brown spot/rice_0_8331.jpg  \n",
            "  inflating: rice_disease/train/Brown spot/rice_0_8335.jpg  \n",
            "  inflating: rice_disease/train/Brown spot/rice_0_8420.jpg  \n",
            "  inflating: rice_disease/train/Brown spot/rice_0_845.jpg  \n",
            "  inflating: rice_disease/train/Brown spot/rice_0_8458.jpg  \n",
            "  inflating: rice_disease/train/Brown spot/rice_0_8547.jpg  \n",
            "  inflating: rice_disease/train/Brown spot/rice_0_8572.jpg  \n",
            "  inflating: rice_disease/train/Brown spot/rice_0_8634.jpg  \n",
            "  inflating: rice_disease/train/Brown spot/rice_0_868.jpg  \n",
            "  inflating: rice_disease/train/Brown spot/rice_0_8788.jpg  \n",
            "  inflating: rice_disease/train/Brown spot/rice_0_8805.jpg  \n",
            "  inflating: rice_disease/train/Brown spot/rice_0_8809.jpg  \n",
            "  inflating: rice_disease/train/Brown spot/rice_0_8852.jpg  \n",
            "  inflating: rice_disease/train/Brown spot/rice_0_8888.jpg  \n",
            "  inflating: rice_disease/train/Brown spot/rice_0_8892.jpg  \n",
            "  inflating: rice_disease/train/Brown spot/rice_0_89.jpg  \n",
            "  inflating: rice_disease/train/Brown spot/rice_0_8933.jpg  \n",
            "  inflating: rice_disease/train/Brown spot/rice_0_8968.jpg  \n",
            "  inflating: rice_disease/train/Brown spot/rice_0_9005.jpg  \n",
            "  inflating: rice_disease/train/Brown spot/rice_0_9129.jpg  \n",
            "  inflating: rice_disease/train/Brown spot/rice_0_9135.jpg  \n",
            "  inflating: rice_disease/train/Brown spot/rice_0_914.jpg  \n",
            "  inflating: rice_disease/train/Brown spot/rice_0_9147.jpg  \n",
            "  inflating: rice_disease/train/Brown spot/rice_0_9198.jpg  \n",
            "  inflating: rice_disease/train/Brown spot/rice_0_92.jpg  \n",
            "  inflating: rice_disease/train/Brown spot/rice_0_9200.jpg  \n",
            "  inflating: rice_disease/train/Brown spot/rice_0_922.jpg  \n",
            "  inflating: rice_disease/train/Brown spot/rice_0_9252.jpg  \n",
            "  inflating: rice_disease/train/Brown spot/rice_0_9275.jpg  \n",
            "  inflating: rice_disease/train/Brown spot/rice_0_9350.jpg  \n",
            "  inflating: rice_disease/train/Brown spot/rice_0_9449.jpg  \n",
            "  inflating: rice_disease/train/Brown spot/rice_0_949.jpg  \n",
            "  inflating: rice_disease/train/Brown spot/rice_0_9504.jpg  \n",
            "  inflating: rice_disease/train/Brown spot/rice_0_9534.jpg  \n",
            "  inflating: rice_disease/train/Brown spot/rice_0_9579.jpg  \n",
            "  inflating: rice_disease/train/Brown spot/rice_0_9581.jpg  \n",
            "  inflating: rice_disease/train/Brown spot/rice_0_959.jpg  \n",
            "  inflating: rice_disease/train/Brown spot/rice_0_9644.jpg  \n",
            "  inflating: rice_disease/train/Brown spot/rice_0_9707.jpg  \n",
            "  inflating: rice_disease/train/Brown spot/rice_0_9729.jpg  \n",
            "  inflating: rice_disease/train/Brown spot/rice_0_976.jpg  \n",
            "  inflating: rice_disease/train/Brown spot/rice_0_978.jpg  \n",
            "  inflating: rice_disease/train/Brown spot/rice_0_9788.jpg  \n",
            "  inflating: rice_disease/train/Brown spot/rice_0_9856.jpg  \n",
            "  inflating: rice_disease/train/Brown spot/rice_0_9866.jpg  \n",
            "  inflating: rice_disease/train/Brown spot/rice_0_9868.jpg  \n",
            "  inflating: rice_disease/train/Brown spot/rice_0_9889.jpg  \n",
            "  inflating: rice_disease/train/Brown spot/rice_0_9895.jpg  \n",
            "  inflating: rice_disease/train/Brown spot/rice_0_9951.jpg  \n",
            "  inflating: rice_disease/train/Brown spot/rice_0_9992.jpg  \n",
            "   creating: rice_disease/train/Leaf smut/\n",
            "  inflating: rice_disease/train/Leaf smut/DSC_0293.JPG  \n",
            "  inflating: rice_disease/train/Leaf smut/DSC_0308.JPG  \n",
            "  inflating: rice_disease/train/Leaf smut/DSC_0309.JPG  \n",
            "  inflating: rice_disease/train/Leaf smut/DSC_0310.JPG  \n",
            "  inflating: rice_disease/train/Leaf smut/DSC_0313.JPG  \n",
            "  inflating: rice_disease/train/Leaf smut/DSC_0315.jpg  \n",
            "  inflating: rice_disease/train/Leaf smut/DSC_0316.JPG  \n",
            "  inflating: rice_disease/train/Leaf smut/DSC_0317.JPG  \n",
            "  inflating: rice_disease/train/Leaf smut/DSC_0321.JPG  \n",
            "  inflating: rice_disease/train/Leaf smut/DSC_0322.jpg  \n",
            "  inflating: rice_disease/train/Leaf smut/DSC_0328.jpg  \n",
            "  inflating: rice_disease/train/Leaf smut/DSC_0330.jpg  \n",
            "  inflating: rice_disease/train/Leaf smut/DSC_0331.JPG  \n",
            "  inflating: rice_disease/train/Leaf smut/DSC_0336.jpg  \n",
            "  inflating: rice_disease/train/Leaf smut/DSC_0502.jpg  \n",
            "  inflating: rice_disease/train/Leaf smut/DSC_0505.jpg  \n",
            "  inflating: rice_disease/train/Leaf smut/DSC_0506.jpg  \n",
            "  inflating: rice_disease/train/Leaf smut/DSC_0507.jpg  \n",
            "  inflating: rice_disease/train/Leaf smut/DSC_0508.jpg  \n",
            "  inflating: rice_disease/train/Leaf smut/DSC_0509.jpg  \n",
            "  inflating: rice_disease/train/Leaf smut/DSC_0512.jpg  \n",
            "  inflating: rice_disease/train/Leaf smut/rice_0_101.jpg  \n",
            "  inflating: rice_disease/train/Leaf smut/rice_0_1066.jpg  \n",
            "  inflating: rice_disease/train/Leaf smut/rice_0_1181.jpg  \n",
            "  inflating: rice_disease/train/Leaf smut/rice_0_1287.jpg  \n",
            "  inflating: rice_disease/train/Leaf smut/rice_0_1358.jpg  \n",
            "  inflating: rice_disease/train/Leaf smut/rice_0_145.jpg  \n",
            "  inflating: rice_disease/train/Leaf smut/rice_0_1521.jpg  \n",
            "  inflating: rice_disease/train/Leaf smut/rice_0_1596.jpg  \n",
            "  inflating: rice_disease/train/Leaf smut/rice_0_1693.jpg  \n",
            "  inflating: rice_disease/train/Leaf smut/rice_0_1709.jpg  \n",
            "  inflating: rice_disease/train/Leaf smut/rice_0_1745.jpg  \n",
            "  inflating: rice_disease/train/Leaf smut/rice_0_1786.jpg  \n",
            "  inflating: rice_disease/train/Leaf smut/rice_0_1797.jpg  \n",
            "  inflating: rice_disease/train/Leaf smut/rice_0_1806.jpg  \n",
            "  inflating: rice_disease/train/Leaf smut/rice_0_183.jpg  \n",
            "  inflating: rice_disease/train/Leaf smut/rice_0_1844.jpg  \n",
            "  inflating: rice_disease/train/Leaf smut/rice_0_19.jpg  \n",
            "  inflating: rice_disease/train/Leaf smut/rice_0_1921.jpg  \n",
            "  inflating: rice_disease/train/Leaf smut/rice_0_195.jpg  \n",
            "  inflating: rice_disease/train/Leaf smut/rice_0_1986.jpg  \n",
            "  inflating: rice_disease/train/Leaf smut/rice_0_203.jpg  \n",
            "  inflating: rice_disease/train/Leaf smut/rice_0_2113.jpg  \n",
            "  inflating: rice_disease/train/Leaf smut/rice_0_2114.jpg  \n",
            "  inflating: rice_disease/train/Leaf smut/rice_0_2212.jpg  \n",
            "  inflating: rice_disease/train/Leaf smut/rice_0_2235.jpg  \n",
            "  inflating: rice_disease/train/Leaf smut/rice_0_2263.jpg  \n",
            "  inflating: rice_disease/train/Leaf smut/rice_0_2335.jpg  \n",
            "  inflating: rice_disease/train/Leaf smut/rice_0_2364.jpg  \n",
            "  inflating: rice_disease/train/Leaf smut/rice_0_2388.jpg  \n",
            "  inflating: rice_disease/train/Leaf smut/rice_0_2407.jpg  \n",
            "  inflating: rice_disease/train/Leaf smut/rice_0_2420.jpg  \n",
            "  inflating: rice_disease/train/Leaf smut/rice_0_2488.jpg  \n",
            "  inflating: rice_disease/train/Leaf smut/rice_0_251.jpg  \n",
            "  inflating: rice_disease/train/Leaf smut/rice_0_2685.jpg  \n",
            "  inflating: rice_disease/train/Leaf smut/rice_0_2801.jpg  \n",
            "  inflating: rice_disease/train/Leaf smut/rice_0_2856.jpg  \n",
            "  inflating: rice_disease/train/Leaf smut/rice_0_2875.jpg  \n",
            "  inflating: rice_disease/train/Leaf smut/rice_0_2894.jpg  \n",
            "  inflating: rice_disease/train/Leaf smut/rice_0_2978.jpg  \n",
            "  inflating: rice_disease/train/Leaf smut/rice_0_3026.jpg  \n",
            "  inflating: rice_disease/train/Leaf smut/rice_0_3029.jpg  \n",
            "  inflating: rice_disease/train/Leaf smut/rice_0_3060.jpg  \n",
            "  inflating: rice_disease/train/Leaf smut/rice_0_3062.jpg  \n",
            "  inflating: rice_disease/train/Leaf smut/rice_0_3210.jpg  \n",
            "  inflating: rice_disease/train/Leaf smut/rice_0_3256.jpg  \n",
            "  inflating: rice_disease/train/Leaf smut/rice_0_3348.jpg  \n",
            "  inflating: rice_disease/train/Leaf smut/rice_0_3374.jpg  \n",
            "  inflating: rice_disease/train/Leaf smut/rice_0_3532.jpg  \n",
            "  inflating: rice_disease/train/Leaf smut/rice_0_3639.jpg  \n",
            "  inflating: rice_disease/train/Leaf smut/rice_0_3658.jpg  \n",
            "  inflating: rice_disease/train/Leaf smut/rice_0_370.jpg  \n",
            "  inflating: rice_disease/train/Leaf smut/rice_0_3720.jpg  \n",
            "  inflating: rice_disease/train/Leaf smut/rice_0_3739.jpg  \n",
            "  inflating: rice_disease/train/Leaf smut/rice_0_3779.jpg  \n",
            "  inflating: rice_disease/train/Leaf smut/rice_0_3879.jpg  \n",
            "  inflating: rice_disease/train/Leaf smut/rice_0_389.jpg  \n",
            "  inflating: rice_disease/train/Leaf smut/rice_0_3907.jpg  \n",
            "  inflating: rice_disease/train/Leaf smut/rice_0_3974.jpg  \n",
            "  inflating: rice_disease/train/Leaf smut/rice_0_4012.jpg  \n",
            "  inflating: rice_disease/train/Leaf smut/rice_0_4118.jpg  \n",
            "  inflating: rice_disease/train/Leaf smut/rice_0_4123.jpg  \n",
            "  inflating: rice_disease/train/Leaf smut/rice_0_4172.jpg  \n",
            "  inflating: rice_disease/train/Leaf smut/rice_0_4188.jpg  \n",
            "  inflating: rice_disease/train/Leaf smut/rice_0_4207.jpg  \n",
            "  inflating: rice_disease/train/Leaf smut/rice_0_4243.jpg  \n",
            "  inflating: rice_disease/train/Leaf smut/rice_0_4322.jpg  \n",
            "  inflating: rice_disease/train/Leaf smut/rice_0_4412.jpg  \n",
            "  inflating: rice_disease/train/Leaf smut/rice_0_4434.jpg  \n",
            "  inflating: rice_disease/train/Leaf smut/rice_0_4470.jpg  \n",
            "  inflating: rice_disease/train/Leaf smut/rice_0_4500.jpg  \n",
            "  inflating: rice_disease/train/Leaf smut/rice_0_4542.jpg  \n",
            "  inflating: rice_disease/train/Leaf smut/rice_0_457.jpg  \n",
            "  inflating: rice_disease/train/Leaf smut/rice_0_4694.jpg  \n",
            "  inflating: rice_disease/train/Leaf smut/rice_0_4727.jpg  \n",
            "  inflating: rice_disease/train/Leaf smut/rice_0_4733.jpg  \n",
            "  inflating: rice_disease/train/Leaf smut/rice_0_4740.jpg  \n",
            "  inflating: rice_disease/train/Leaf smut/rice_0_475.jpg  \n",
            "  inflating: rice_disease/train/Leaf smut/rice_0_4777.jpg  \n",
            "  inflating: rice_disease/train/Leaf smut/rice_0_4812.jpg  \n",
            "  inflating: rice_disease/train/Leaf smut/rice_0_4825.jpg  \n",
            "  inflating: rice_disease/train/Leaf smut/rice_0_4857.jpg  \n",
            "  inflating: rice_disease/train/Leaf smut/rice_0_4879.jpg  \n",
            "  inflating: rice_disease/train/Leaf smut/rice_0_4880.jpg  \n",
            "  inflating: rice_disease/train/Leaf smut/rice_0_4898.jpg  \n",
            "  inflating: rice_disease/train/Leaf smut/rice_0_4917.jpg  \n",
            "  inflating: rice_disease/train/Leaf smut/rice_0_4919.jpg  \n",
            "  inflating: rice_disease/train/Leaf smut/rice_0_5051.jpg  \n",
            "  inflating: rice_disease/train/Leaf smut/rice_0_5159.jpg  \n",
            "  inflating: rice_disease/train/Leaf smut/rice_0_5214.jpg  \n",
            "  inflating: rice_disease/train/Leaf smut/rice_0_5238.jpg  \n",
            "  inflating: rice_disease/train/Leaf smut/rice_0_526.jpg  \n",
            "  inflating: rice_disease/train/Leaf smut/rice_0_5277.jpg  \n",
            "  inflating: rice_disease/train/Leaf smut/rice_0_5293.jpg  \n",
            "  inflating: rice_disease/train/Leaf smut/rice_0_5435.jpg  \n",
            "  inflating: rice_disease/train/Leaf smut/rice_0_5466.jpg  \n",
            "  inflating: rice_disease/train/Leaf smut/rice_0_5470.jpg  \n",
            "  inflating: rice_disease/train/Leaf smut/rice_0_5474.jpg  \n",
            "  inflating: rice_disease/train/Leaf smut/rice_0_55.jpg  \n",
            "  inflating: rice_disease/train/Leaf smut/rice_0_5532.jpg  \n",
            "  inflating: rice_disease/train/Leaf smut/rice_0_5569.jpg  \n",
            "  inflating: rice_disease/train/Leaf smut/rice_0_5579.jpg  \n",
            "  inflating: rice_disease/train/Leaf smut/rice_0_558.jpg  \n",
            "  inflating: rice_disease/train/Leaf smut/rice_0_5772.jpg  \n",
            "  inflating: rice_disease/train/Leaf smut/rice_0_5783.jpg  \n",
            "  inflating: rice_disease/train/Leaf smut/rice_0_5816.jpg  \n",
            "  inflating: rice_disease/train/Leaf smut/rice_0_5843.jpg  \n",
            "  inflating: rice_disease/train/Leaf smut/rice_0_5859.jpg  \n",
            "  inflating: rice_disease/train/Leaf smut/rice_0_5866.jpg  \n",
            "  inflating: rice_disease/train/Leaf smut/rice_0_5887.jpg  \n",
            "  inflating: rice_disease/train/Leaf smut/rice_0_5933.jpg  \n",
            "  inflating: rice_disease/train/Leaf smut/rice_0_5996.jpg  \n",
            "  inflating: rice_disease/train/Leaf smut/rice_0_6097.jpg  \n",
            "  inflating: rice_disease/train/Leaf smut/rice_0_6129.jpg  \n",
            "  inflating: rice_disease/train/Leaf smut/rice_0_6130.jpg  \n",
            "  inflating: rice_disease/train/Leaf smut/rice_0_6260.jpg  \n",
            "  inflating: rice_disease/train/Leaf smut/rice_0_6338.jpg  \n",
            "  inflating: rice_disease/train/Leaf smut/rice_0_6430.jpg  \n",
            "  inflating: rice_disease/train/Leaf smut/rice_0_644.jpg  \n",
            "  inflating: rice_disease/train/Leaf smut/rice_0_6443.jpg  \n",
            "  inflating: rice_disease/train/Leaf smut/rice_0_645.jpg  \n",
            "  inflating: rice_disease/train/Leaf smut/rice_0_6516.jpg  \n",
            "  inflating: rice_disease/train/Leaf smut/rice_0_666.jpg  \n",
            "  inflating: rice_disease/train/Leaf smut/rice_0_6666.jpg  \n",
            "  inflating: rice_disease/train/Leaf smut/rice_0_6686.jpg  \n",
            "  inflating: rice_disease/train/Leaf smut/rice_0_6795.jpg  \n",
            "  inflating: rice_disease/train/Leaf smut/rice_0_6805.jpg  \n",
            "  inflating: rice_disease/train/Leaf smut/rice_0_6896.jpg  \n",
            "  inflating: rice_disease/train/Leaf smut/rice_0_6946.jpg  \n",
            "  inflating: rice_disease/train/Leaf smut/rice_0_7036.jpg  \n",
            "  inflating: rice_disease/train/Leaf smut/rice_0_7115.jpg  \n",
            "  inflating: rice_disease/train/Leaf smut/rice_0_7221.jpg  \n",
            "  inflating: rice_disease/train/Leaf smut/rice_0_7261.jpg  \n",
            "  inflating: rice_disease/train/Leaf smut/rice_0_7306.jpg  \n",
            "  inflating: rice_disease/train/Leaf smut/rice_0_7346.jpg  \n",
            "  inflating: rice_disease/train/Leaf smut/rice_0_7365.jpg  \n",
            "  inflating: rice_disease/train/Leaf smut/rice_0_7393.jpg  \n",
            "  inflating: rice_disease/train/Leaf smut/rice_0_7455.jpg  \n",
            "  inflating: rice_disease/train/Leaf smut/rice_0_749.jpg  \n",
            "  inflating: rice_disease/train/Leaf smut/rice_0_7614.jpg  \n",
            "  inflating: rice_disease/train/Leaf smut/rice_0_7683.jpg  \n",
            "  inflating: rice_disease/train/Leaf smut/rice_0_7688.jpg  \n",
            "  inflating: rice_disease/train/Leaf smut/rice_0_7795.jpg  \n",
            "  inflating: rice_disease/train/Leaf smut/rice_0_7814.jpg  \n",
            "  inflating: rice_disease/train/Leaf smut/rice_0_7828.jpg  \n",
            "  inflating: rice_disease/train/Leaf smut/rice_0_7949.jpg  \n",
            "  inflating: rice_disease/train/Leaf smut/rice_0_7984.jpg  \n",
            "  inflating: rice_disease/train/Leaf smut/rice_0_799.jpg  \n",
            "  inflating: rice_disease/train/Leaf smut/rice_0_8005.jpg  \n",
            "  inflating: rice_disease/train/Leaf smut/rice_0_8025.jpg  \n",
            "  inflating: rice_disease/train/Leaf smut/rice_0_8055.jpg  \n",
            "  inflating: rice_disease/train/Leaf smut/rice_0_8074.jpg  \n",
            "  inflating: rice_disease/train/Leaf smut/rice_0_8143.jpg  \n",
            "  inflating: rice_disease/train/Leaf smut/rice_0_8192.jpg  \n",
            "  inflating: rice_disease/train/Leaf smut/rice_0_8210.jpg  \n",
            "  inflating: rice_disease/train/Leaf smut/rice_0_8215.jpg  \n",
            "  inflating: rice_disease/train/Leaf smut/rice_0_8249.jpg  \n",
            "  inflating: rice_disease/train/Leaf smut/rice_0_828.jpg  \n",
            "  inflating: rice_disease/train/Leaf smut/rice_0_8288.jpg  \n",
            "  inflating: rice_disease/train/Leaf smut/rice_0_8293.jpg  \n",
            "  inflating: rice_disease/train/Leaf smut/rice_0_8371.jpg  \n",
            "  inflating: rice_disease/train/Leaf smut/rice_0_843.jpg  \n",
            "  inflating: rice_disease/train/Leaf smut/rice_0_8446.jpg  \n",
            "  inflating: rice_disease/train/Leaf smut/rice_0_8556.jpg  \n",
            "  inflating: rice_disease/train/Leaf smut/rice_0_8645.jpg  \n",
            "  inflating: rice_disease/train/Leaf smut/rice_0_866.jpg  \n",
            "  inflating: rice_disease/train/Leaf smut/rice_0_8664.jpg  \n",
            "  inflating: rice_disease/train/Leaf smut/rice_0_8704.jpg  \n",
            "  inflating: rice_disease/train/Leaf smut/rice_0_8773.jpg  \n",
            "  inflating: rice_disease/train/Leaf smut/rice_0_8829.jpg  \n",
            "  inflating: rice_disease/train/Leaf smut/rice_0_9005.jpg  \n",
            "  inflating: rice_disease/train/Leaf smut/rice_0_9023.jpg  \n",
            "  inflating: rice_disease/train/Leaf smut/rice_0_9025.jpg  \n",
            "  inflating: rice_disease/train/Leaf smut/rice_0_9035.jpg  \n",
            "  inflating: rice_disease/train/Leaf smut/rice_0_9068.jpg  \n",
            "  inflating: rice_disease/train/Leaf smut/rice_0_9098.jpg  \n",
            "  inflating: rice_disease/train/Leaf smut/rice_0_9180.jpg  \n",
            "  inflating: rice_disease/train/Leaf smut/rice_0_9244.jpg  \n",
            "  inflating: rice_disease/train/Leaf smut/rice_0_9328.jpg  \n",
            "  inflating: rice_disease/train/Leaf smut/rice_0_9382.jpg  \n",
            "  inflating: rice_disease/train/Leaf smut/rice_0_9437.jpg  \n",
            "  inflating: rice_disease/train/Leaf smut/rice_0_9577.jpg  \n",
            "  inflating: rice_disease/train/Leaf smut/rice_0_9661.jpg  \n",
            "  inflating: rice_disease/train/Leaf smut/rice_0_9666.jpg  \n",
            "  inflating: rice_disease/train/Leaf smut/rice_0_9678.jpg  \n",
            "  inflating: rice_disease/train/Leaf smut/rice_0_9684.jpg  \n",
            "  inflating: rice_disease/train/Leaf smut/rice_0_9690.jpg  \n",
            "  inflating: rice_disease/train/Leaf smut/rice_0_9774.jpg  \n",
            "  inflating: rice_disease/train/Leaf smut/rice_0_9817.jpg  \n",
            "  inflating: rice_disease/train/Leaf smut/rice_0_9851.jpg  \n",
            "  inflating: rice_disease/train/Leaf smut/rice_0_988.jpg  \n",
            "  inflating: rice_disease/train/Leaf smut/rice_0_9932.jpg  \n",
            "  inflating: rice_disease/train/Leaf smut/rice_0_9983.jpg  \n",
            "  inflating: rice_disease/train/Leaf smut/rice_0_9996.jpg  \n",
            "   creating: rice_disease/val/\n",
            "   creating: rice_disease/val/Bacterial leaf blight/\n",
            "  inflating: rice_disease/val/Bacterial leaf blight/DSC_0372.JPG  \n",
            "  inflating: rice_disease/val/Bacterial leaf blight/DSC_0383.JPG  \n",
            "  inflating: rice_disease/val/Bacterial leaf blight/DSC_0385.jpg  \n",
            "  inflating: rice_disease/val/Bacterial leaf blight/DSC_0397.JPG  \n",
            "  inflating: rice_disease/val/Bacterial leaf blight/DSC_0398.JPG  \n",
            "  inflating: rice_disease/val/Bacterial leaf blight/rice_0_1180.jpg  \n",
            "  inflating: rice_disease/val/Bacterial leaf blight/rice_0_1278.jpg  \n",
            "  inflating: rice_disease/val/Bacterial leaf blight/rice_0_1683.jpg  \n",
            "  inflating: rice_disease/val/Bacterial leaf blight/rice_0_1918.jpg  \n",
            "  inflating: rice_disease/val/Bacterial leaf blight/rice_0_2051.jpg  \n",
            "  inflating: rice_disease/val/Bacterial leaf blight/rice_0_2264.jpg  \n",
            "  inflating: rice_disease/val/Bacterial leaf blight/rice_0_2393.jpg  \n",
            "  inflating: rice_disease/val/Bacterial leaf blight/rice_0_2862.jpg  \n",
            "  inflating: rice_disease/val/Bacterial leaf blight/rice_0_2925.jpg  \n",
            "  inflating: rice_disease/val/Bacterial leaf blight/rice_0_3241.jpg  \n",
            "  inflating: rice_disease/val/Bacterial leaf blight/rice_0_3780.jpg  \n",
            "  inflating: rice_disease/val/Bacterial leaf blight/rice_0_4359.jpg  \n",
            "  inflating: rice_disease/val/Bacterial leaf blight/rice_0_5103.jpg  \n",
            "  inflating: rice_disease/val/Bacterial leaf blight/rice_0_5414.jpg  \n",
            "  inflating: rice_disease/val/Bacterial leaf blight/rice_0_5549.jpg  \n",
            "  inflating: rice_disease/val/Bacterial leaf blight/rice_0_5764.jpg  \n",
            "  inflating: rice_disease/val/Bacterial leaf blight/rice_0_5799.jpg  \n",
            "  inflating: rice_disease/val/Bacterial leaf blight/rice_0_5852.jpg  \n",
            "  inflating: rice_disease/val/Bacterial leaf blight/rice_0_600.jpg  \n",
            "  inflating: rice_disease/val/Bacterial leaf blight/rice_0_6021.jpg  \n",
            "  inflating: rice_disease/val/Bacterial leaf blight/rice_0_6244.jpg  \n",
            "  inflating: rice_disease/val/Bacterial leaf blight/rice_0_634.jpg  \n",
            "  inflating: rice_disease/val/Bacterial leaf blight/rice_0_6438.jpg  \n",
            "  inflating: rice_disease/val/Bacterial leaf blight/rice_0_6488.jpg  \n",
            "  inflating: rice_disease/val/Bacterial leaf blight/rice_0_6645.jpg  \n",
            "  inflating: rice_disease/val/Bacterial leaf blight/rice_0_6814.jpg  \n",
            "  inflating: rice_disease/val/Bacterial leaf blight/rice_0_6909.jpg  \n",
            "  inflating: rice_disease/val/Bacterial leaf blight/rice_0_6974.jpg  \n",
            "  inflating: rice_disease/val/Bacterial leaf blight/rice_0_7169.jpg  \n",
            "  inflating: rice_disease/val/Bacterial leaf blight/rice_0_7194.jpg  \n",
            "  inflating: rice_disease/val/Bacterial leaf blight/rice_0_7207.jpg  \n",
            "  inflating: rice_disease/val/Bacterial leaf blight/rice_0_7503.jpg  \n",
            "  inflating: rice_disease/val/Bacterial leaf blight/rice_0_7539.jpg  \n",
            "  inflating: rice_disease/val/Bacterial leaf blight/rice_0_7604.jpg  \n",
            "  inflating: rice_disease/val/Bacterial leaf blight/rice_0_7733.jpg  \n",
            "  inflating: rice_disease/val/Bacterial leaf blight/rice_0_7777.jpg  \n",
            "  inflating: rice_disease/val/Bacterial leaf blight/rice_0_7786.jpg  \n",
            "  inflating: rice_disease/val/Bacterial leaf blight/rice_0_7789.jpg  \n",
            "  inflating: rice_disease/val/Bacterial leaf blight/rice_0_8095.jpg  \n",
            "  inflating: rice_disease/val/Bacterial leaf blight/rice_0_8160.jpg  \n",
            "  inflating: rice_disease/val/Bacterial leaf blight/rice_0_8166.jpg  \n",
            "  inflating: rice_disease/val/Bacterial leaf blight/rice_0_8486.jpg  \n",
            "  inflating: rice_disease/val/Bacterial leaf blight/rice_0_8612.jpg  \n",
            "  inflating: rice_disease/val/Bacterial leaf blight/rice_0_8618.jpg  \n",
            "  inflating: rice_disease/val/Bacterial leaf blight/rice_0_8640.jpg  \n",
            "  inflating: rice_disease/val/Bacterial leaf blight/rice_0_8915.jpg  \n",
            "  inflating: rice_disease/val/Bacterial leaf blight/rice_0_901.jpg  \n",
            "  inflating: rice_disease/val/Bacterial leaf blight/rice_0_9487.jpg  \n",
            "  inflating: rice_disease/val/Bacterial leaf blight/rice_0_9556.jpg  \n",
            "  inflating: rice_disease/val/Bacterial leaf blight/rice_0_9735.jpg  \n",
            "   creating: rice_disease/val/Brown spot/\n",
            "  inflating: rice_disease/val/Brown spot/DSC_0106.jpg  \n",
            "  inflating: rice_disease/val/Brown spot/DSC_0117.jpg  \n",
            "  inflating: rice_disease/val/Brown spot/DSC_0119.jpg  \n",
            "  inflating: rice_disease/val/Brown spot/DSC_0303.JPG  \n",
            "  inflating: rice_disease/val/Brown spot/DSC_0304.JPG  \n",
            "  inflating: rice_disease/val/Brown spot/rice_0_122.jpg  \n",
            "  inflating: rice_disease/val/Brown spot/rice_0_1373.jpg  \n",
            "  inflating: rice_disease/val/Brown spot/rice_0_1863.jpg  \n",
            "  inflating: rice_disease/val/Brown spot/rice_0_2087.jpg  \n",
            "  inflating: rice_disease/val/Brown spot/rice_0_2251.jpg  \n",
            "  inflating: rice_disease/val/Brown spot/rice_0_2656.jpg  \n",
            "  inflating: rice_disease/val/Brown spot/rice_0_2857.jpg  \n",
            "  inflating: rice_disease/val/Brown spot/rice_0_331.jpg  \n",
            "  inflating: rice_disease/val/Brown spot/rice_0_3390.jpg  \n",
            "  inflating: rice_disease/val/Brown spot/rice_0_3631.jpg  \n",
            "  inflating: rice_disease/val/Brown spot/rice_0_4030.jpg  \n",
            "  inflating: rice_disease/val/Brown spot/rice_0_4561.jpg  \n",
            "  inflating: rice_disease/val/Brown spot/rice_0_5102.jpg  \n",
            "  inflating: rice_disease/val/Brown spot/rice_0_5569.jpg  \n",
            "  inflating: rice_disease/val/Brown spot/rice_0_579.jpg  \n",
            "  inflating: rice_disease/val/Brown spot/rice_0_5909.jpg  \n",
            "  inflating: rice_disease/val/Brown spot/rice_0_6007.jpg  \n",
            "  inflating: rice_disease/val/Brown spot/rice_0_6119.jpg  \n",
            "  inflating: rice_disease/val/Brown spot/rice_0_6149.jpg  \n",
            "  inflating: rice_disease/val/Brown spot/rice_0_6151.jpg  \n",
            "  inflating: rice_disease/val/Brown spot/rice_0_625.jpg  \n",
            "  inflating: rice_disease/val/Brown spot/rice_0_6469.jpg  \n",
            "  inflating: rice_disease/val/Brown spot/rice_0_6550.jpg  \n",
            "  inflating: rice_disease/val/Brown spot/rice_0_6557.jpg  \n",
            "  inflating: rice_disease/val/Brown spot/rice_0_6658.jpg  \n",
            "  inflating: rice_disease/val/Brown spot/rice_0_6734.jpg  \n",
            "  inflating: rice_disease/val/Brown spot/rice_0_6870.jpg  \n",
            "  inflating: rice_disease/val/Brown spot/rice_0_6926.jpg  \n",
            "  inflating: rice_disease/val/Brown spot/rice_0_7104.jpg  \n",
            "  inflating: rice_disease/val/Brown spot/rice_0_7164.jpg  \n",
            "  inflating: rice_disease/val/Brown spot/rice_0_7226.jpg  \n",
            "  inflating: rice_disease/val/Brown spot/rice_0_7566.jpg  \n",
            "  inflating: rice_disease/val/Brown spot/rice_0_7765.jpg  \n",
            "  inflating: rice_disease/val/Brown spot/rice_0_782.jpg  \n",
            "  inflating: rice_disease/val/Brown spot/rice_0_7873.jpg  \n",
            "  inflating: rice_disease/val/Brown spot/rice_0_7885.jpg  \n",
            "  inflating: rice_disease/val/Brown spot/rice_0_7925.jpg  \n",
            "  inflating: rice_disease/val/Brown spot/rice_0_7953.jpg  \n",
            "  inflating: rice_disease/val/Brown spot/rice_0_8342.jpg  \n",
            "  inflating: rice_disease/val/Brown spot/rice_0_8497.jpg  \n",
            "  inflating: rice_disease/val/Brown spot/rice_0_852.jpg  \n",
            "  inflating: rice_disease/val/Brown spot/rice_0_888.jpg  \n",
            "  inflating: rice_disease/val/Brown spot/rice_0_9038.jpg  \n",
            "  inflating: rice_disease/val/Brown spot/rice_0_9041.jpg  \n",
            "  inflating: rice_disease/val/Brown spot/rice_0_9131.jpg  \n",
            "  inflating: rice_disease/val/Brown spot/rice_0_9228.jpg  \n",
            "  inflating: rice_disease/val/Brown spot/rice_0_9344.jpg  \n",
            "  inflating: rice_disease/val/Brown spot/rice_0_9594.jpg  \n",
            "  inflating: rice_disease/val/Brown spot/rice_0_9608.jpg  \n",
            "  inflating: rice_disease/val/Brown spot/rice_0_9842.jpg  \n",
            "   creating: rice_disease/val/Leaf smut/\n",
            "  inflating: rice_disease/val/Leaf smut/DSC_0312.JPG  \n",
            "  inflating: rice_disease/val/Leaf smut/DSC_0327.JPG  \n",
            "  inflating: rice_disease/val/Leaf smut/DSC_0503.jpg  \n",
            "  inflating: rice_disease/val/Leaf smut/DSC_0504.jpg  \n",
            "  inflating: rice_disease/val/Leaf smut/rice_0_1446.jpg  \n",
            "  inflating: rice_disease/val/Leaf smut/rice_0_157.jpg  \n",
            "  inflating: rice_disease/val/Leaf smut/rice_0_1891.jpg  \n",
            "  inflating: rice_disease/val/Leaf smut/rice_0_2140.jpg  \n",
            "  inflating: rice_disease/val/Leaf smut/rice_0_2332.jpg  \n",
            "  inflating: rice_disease/val/Leaf smut/rice_0_2515.jpg  \n",
            "  inflating: rice_disease/val/Leaf smut/rice_0_2874.jpg  \n",
            "  inflating: rice_disease/val/Leaf smut/rice_0_3428.jpg  \n",
            "  inflating: rice_disease/val/Leaf smut/rice_0_3522.jpg  \n",
            "  inflating: rice_disease/val/Leaf smut/rice_0_3693.jpg  \n",
            "  inflating: rice_disease/val/Leaf smut/rice_0_3835.jpg  \n",
            "  inflating: rice_disease/val/Leaf smut/rice_0_3855.jpg  \n",
            "  inflating: rice_disease/val/Leaf smut/rice_0_4341.jpg  \n",
            "  inflating: rice_disease/val/Leaf smut/rice_0_4390.jpg  \n",
            "  inflating: rice_disease/val/Leaf smut/rice_0_4780.jpg  \n",
            "  inflating: rice_disease/val/Leaf smut/rice_0_5229.jpg  \n",
            "  inflating: rice_disease/val/Leaf smut/rice_0_5318.jpg  \n",
            "  inflating: rice_disease/val/Leaf smut/rice_0_5505.jpg  \n",
            "  inflating: rice_disease/val/Leaf smut/rice_0_5799.jpg  \n",
            "  inflating: rice_disease/val/Leaf smut/rice_0_5876.jpg  \n",
            "  inflating: rice_disease/val/Leaf smut/rice_0_5924.jpg  \n",
            "  inflating: rice_disease/val/Leaf smut/rice_0_6062.jpg  \n",
            "  inflating: rice_disease/val/Leaf smut/rice_0_6086.jpg  \n",
            "  inflating: rice_disease/val/Leaf smut/rice_0_6274.jpg  \n",
            "  inflating: rice_disease/val/Leaf smut/rice_0_6475.jpg  \n",
            "  inflating: rice_disease/val/Leaf smut/rice_0_6485.jpg  \n",
            "  inflating: rice_disease/val/Leaf smut/rice_0_6506.jpg  \n",
            "  inflating: rice_disease/val/Leaf smut/rice_0_6547.jpg  \n",
            "  inflating: rice_disease/val/Leaf smut/rice_0_6668.jpg  \n",
            "  inflating: rice_disease/val/Leaf smut/rice_0_6717.jpg  \n",
            "  inflating: rice_disease/val/Leaf smut/rice_0_704.jpg  \n",
            "  inflating: rice_disease/val/Leaf smut/rice_0_7152.jpg  \n",
            "  inflating: rice_disease/val/Leaf smut/rice_0_7212.jpg  \n",
            "  inflating: rice_disease/val/Leaf smut/rice_0_7214.jpg  \n",
            "  inflating: rice_disease/val/Leaf smut/rice_0_7482.jpg  \n",
            "  inflating: rice_disease/val/Leaf smut/rice_0_7545.jpg  \n",
            "  inflating: rice_disease/val/Leaf smut/rice_0_7642.jpg  \n",
            "  inflating: rice_disease/val/Leaf smut/rice_0_7713.jpg  \n",
            "  inflating: rice_disease/val/Leaf smut/rice_0_7724.jpg  \n",
            "  inflating: rice_disease/val/Leaf smut/rice_0_7731.jpg  \n",
            "  inflating: rice_disease/val/Leaf smut/rice_0_8007.jpg  \n",
            "  inflating: rice_disease/val/Leaf smut/rice_0_8080.jpg  \n",
            "  inflating: rice_disease/val/Leaf smut/rice_0_8122.jpg  \n",
            "  inflating: rice_disease/val/Leaf smut/rice_0_8311.jpg  \n",
            "  inflating: rice_disease/val/Leaf smut/rice_0_8416.jpg  \n",
            "  inflating: rice_disease/val/Leaf smut/rice_0_8765.jpg  \n",
            "  inflating: rice_disease/val/Leaf smut/rice_0_9215.jpg  \n",
            "  inflating: rice_disease/val/Leaf smut/rice_0_9287.jpg  \n",
            "  inflating: rice_disease/val/Leaf smut/rice_0_9673.jpg  \n",
            "  inflating: rice_disease/val/Leaf smut/rice_0_972.jpg  \n"
          ]
        }
      ]
    },
    {
      "cell_type": "markdown",
      "metadata": {
        "id": "ty83WBaQcmv2"
      },
      "source": [
        "**1) Khai báo thư viện**"
      ]
    },
    {
      "cell_type": "code",
      "metadata": {
        "id": "zzZrGILGZ8FE"
      },
      "source": [
        "#Khai bao thu vien\n",
        "from sklearn.preprocessing import LabelEncoder\n",
        "from sklearn.model_selection import train_test_split\n",
        "from tensorflow.keras.optimizers import Adam\n",
        "from keras.utils import np_utils\n",
        "from keras.layers.core import Dropout\n",
        "from imutils import paths\n",
        "from tensorflow.keras.layers import Input\n",
        "from tensorflow.keras.models import Model\n",
        "from tensorflow.keras.layers import Dense\n",
        "from tensorflow.keras.layers import Conv2D\n",
        "from tensorflow.keras.layers import MaxPool2D\n",
        "from tensorflow.keras.layers import Flatten\n",
        "from tensorflow.keras.models import Sequential\n",
        "from google.colab.patches import cv2_imshow\n",
        "from keras.models import load_model\n",
        "import matplotlib.pyplot as plt\n",
        "import numpy as np\n",
        "import pickle\n",
        "import cv2\n",
        "import os\n",
        "from tensorflow.keras.callbacks import EarlyStopping, ModelCheckpoint\n"
      ],
      "execution_count": 3,
      "outputs": []
    },
    {
      "cell_type": "markdown",
      "metadata": {
        "id": "UrQBKCrocvhB"
      },
      "source": [
        "**2) Khởi tạo model**"
      ]
    },
    {
      "cell_type": "code",
      "source": [
        "model = Sequential()\n",
        "model.add(Conv2D(input_shape=(224, 224, 3), filters=64, kernel_size=(3, 3),\n",
        "                 padding='same', activation='relu'))\n",
        "model.add(Conv2D(filters=64, kernel_size=(3,3), padding='same', activation='relu'))\n",
        "model.add(MaxPool2D(pool_size=(2, 2), strides=(2, 2)))\n",
        "\n",
        "model.add(Conv2D(filters=128, kernel_size=(3,3), padding='same', activation='relu'))\n",
        "model.add(Conv2D(filters=128, kernel_size=(3,3), padding='same', activation='relu'))\n",
        "model.add(MaxPool2D(pool_size=(2, 2), strides=(2, 2)))\n",
        "\n",
        "model.add(Conv2D(filters=256, kernel_size=(3,3), padding='same', activation='relu'))\n",
        "model.add(Conv2D(filters=256, kernel_size=(3,3), padding='same', activation='relu'))\n",
        "model.add(Conv2D(filters=256, kernel_size=(3,3), padding='same', activation='relu'))\n",
        "model.add(MaxPool2D(pool_size=(2, 2), strides=(2, 2)))\n",
        "\n",
        "model.add(Conv2D(filters=512, kernel_size=(3,3), padding='same', activation='relu'))\n",
        "model.add(Conv2D(filters=512, kernel_size=(3,3), padding='same', activation='relu'))\n",
        "model.add(Conv2D(filters=512, kernel_size=(3,3), padding='same', activation='relu'))\n",
        "model.add(MaxPool2D(pool_size=(2, 2), strides=(2, 2)))\n",
        "\n",
        "model.add(Conv2D(filters=512, kernel_size=(3,3), padding='same', activation='relu'))\n",
        "model.add(Conv2D(filters=512, kernel_size=(3,3), padding='same', activation='relu'))\n",
        "model.add(Conv2D(filters=512, kernel_size=(3,3), padding='same', activation='relu'))\n",
        "model.add(MaxPool2D(pool_size=(2, 2), strides=(2, 2)))\n",
        "\n",
        "model.add(Flatten())\n",
        "\n",
        "model.add(Dense(units = 512, activation = 'relu'))\n",
        "model.add(Dropout(0.5))\n",
        "model.add(Dense(units = 256, activation = 'relu'))\n",
        "\n",
        "model.add(Dense(units=3, activation='softmax'))\n",
        "model.summary()"
      ],
      "metadata": {
        "colab": {
          "base_uri": "https://localhost:8080/"
        },
        "id": "XRm7C8oNe4cN",
        "outputId": "9fbcb6d7-2ba4-47d2-afa8-2bf177bd1d66"
      },
      "execution_count": 4,
      "outputs": [
        {
          "output_type": "stream",
          "name": "stdout",
          "text": [
            "Model: \"sequential\"\n",
            "_________________________________________________________________\n",
            " Layer (type)                Output Shape              Param #   \n",
            "=================================================================\n",
            " conv2d (Conv2D)             (None, 224, 224, 64)      1792      \n",
            "                                                                 \n",
            " conv2d_1 (Conv2D)           (None, 224, 224, 64)      36928     \n",
            "                                                                 \n",
            " max_pooling2d (MaxPooling2D  (None, 112, 112, 64)     0         \n",
            " )                                                               \n",
            "                                                                 \n",
            " conv2d_2 (Conv2D)           (None, 112, 112, 128)     73856     \n",
            "                                                                 \n",
            " conv2d_3 (Conv2D)           (None, 112, 112, 128)     147584    \n",
            "                                                                 \n",
            " max_pooling2d_1 (MaxPooling  (None, 56, 56, 128)      0         \n",
            " 2D)                                                             \n",
            "                                                                 \n",
            " conv2d_4 (Conv2D)           (None, 56, 56, 256)       295168    \n",
            "                                                                 \n",
            " conv2d_5 (Conv2D)           (None, 56, 56, 256)       590080    \n",
            "                                                                 \n",
            " conv2d_6 (Conv2D)           (None, 56, 56, 256)       590080    \n",
            "                                                                 \n",
            " max_pooling2d_2 (MaxPooling  (None, 28, 28, 256)      0         \n",
            " 2D)                                                             \n",
            "                                                                 \n",
            " conv2d_7 (Conv2D)           (None, 28, 28, 512)       1180160   \n",
            "                                                                 \n",
            " conv2d_8 (Conv2D)           (None, 28, 28, 512)       2359808   \n",
            "                                                                 \n",
            " conv2d_9 (Conv2D)           (None, 28, 28, 512)       2359808   \n",
            "                                                                 \n",
            " max_pooling2d_3 (MaxPooling  (None, 14, 14, 512)      0         \n",
            " 2D)                                                             \n",
            "                                                                 \n",
            " conv2d_10 (Conv2D)          (None, 14, 14, 512)       2359808   \n",
            "                                                                 \n",
            " conv2d_11 (Conv2D)          (None, 14, 14, 512)       2359808   \n",
            "                                                                 \n",
            " conv2d_12 (Conv2D)          (None, 14, 14, 512)       2359808   \n",
            "                                                                 \n",
            " max_pooling2d_4 (MaxPooling  (None, 7, 7, 512)        0         \n",
            " 2D)                                                             \n",
            "                                                                 \n",
            " flatten (Flatten)           (None, 25088)             0         \n",
            "                                                                 \n",
            " dense (Dense)               (None, 512)               12845568  \n",
            "                                                                 \n",
            " dropout (Dropout)           (None, 512)               0         \n",
            "                                                                 \n",
            " dense_1 (Dense)             (None, 256)               131328    \n",
            "                                                                 \n",
            " dense_2 (Dense)             (None, 3)                 771       \n",
            "                                                                 \n",
            "=================================================================\n",
            "Total params: 27,692,355\n",
            "Trainable params: 27,692,355\n",
            "Non-trainable params: 0\n",
            "_________________________________________________________________\n"
          ]
        }
      ]
    },
    {
      "cell_type": "markdown",
      "metadata": {
        "id": "ua9yOl8QdZjr"
      },
      "source": [
        "**3) Thiết lập LR, Batch_size, Epochs**"
      ]
    },
    {
      "cell_type": "code",
      "metadata": {
        "id": "v6Cru0dIaF0M"
      },
      "source": [
        "#thiet lap thong so lr, batch_size va epochs\n",
        "INIT_LR = 1e-5\n",
        "BS = 8\n",
        "EPOCHS = 50"
      ],
      "execution_count": 5,
      "outputs": []
    },
    {
      "cell_type": "markdown",
      "metadata": {
        "id": "0kX4c1_LddkP"
      },
      "source": [
        "**4) Khởi tạo ảnh đầu vào**"
      ]
    },
    {
      "cell_type": "code",
      "metadata": {
        "id": "swvAsE7QaHxo"
      },
      "source": [
        "#khoi tao input\n",
        "imagePaths = list(paths.list_images('/content/rice_disease/train'))\n",
        "data = []\n",
        "labels = []\n",
        "\n",
        "for imagePath in imagePaths:\n",
        "    label = imagePath.split(os.path.sep)[-2]\n",
        "    image = cv2.imread(imagePath)\n",
        "    image = cv2.resize(image, (224,224))\n",
        "    data.append(image)\n",
        "    labels.append(label)\n",
        "data = np.array(data, dtype=\"float\") / 255.0"
      ],
      "execution_count": 6,
      "outputs": []
    },
    {
      "cell_type": "code",
      "metadata": {
        "id": "cCGmmHxxgU58"
      },
      "source": [
        "#khoi tao input\n",
        "imagePaths_val = list(paths.list_images('/content/rice_disease/val'))\n",
        "data_val = []\n",
        "labels_val = []\n",
        "\n",
        "for imagePath_val in imagePaths_val:\n",
        "    label_val = imagePath_val.split(os.path.sep)[-2]\n",
        "    image_val = cv2.imread(imagePath_val)\n",
        "    image_val = cv2.resize(image_val, (224,224))\n",
        "    data_val.append(image_val)\n",
        "    labels_val.append(label_val)\n",
        "data_val = np.array(data_val, dtype=\"float\") / 255.0"
      ],
      "execution_count": 7,
      "outputs": []
    },
    {
      "cell_type": "markdown",
      "metadata": {
        "id": "tCxFhsOkdiFs"
      },
      "source": [
        "**5) Mã hoá one-hot nhãn**"
      ]
    },
    {
      "cell_type": "code",
      "metadata": {
        "id": "Eslmss2naL65"
      },
      "source": [
        "#one-hot label\n",
        "le = LabelEncoder()\n",
        "labels = le.fit_transform(labels)\n",
        "labels = np_utils.to_categorical(labels, 3)\n",
        "labels_val = le.fit_transform(labels_val)\n",
        "labels_val = np_utils.to_categorical(labels_val, 3)"
      ],
      "execution_count": 8,
      "outputs": []
    },
    {
      "cell_type": "markdown",
      "metadata": {
        "id": "QHIpWKMsdmzK"
      },
      "source": [
        "**6) Thiết lập dữ liệu train**"
      ]
    },
    {
      "cell_type": "code",
      "metadata": {
        "id": "oloHm4m0aRdl"
      },
      "source": [
        "X_train = data\n",
        "y_train = labels\n",
        "X_val = data_val\n",
        "y_val = labels_val"
      ],
      "execution_count": 9,
      "outputs": []
    },
    {
      "cell_type": "code",
      "source": [
        "checkpoint_filepath = '/content/drive/MyDrive/model_checkpoint/'\n",
        "print('Creating Directory: ' + checkpoint_filepath)\n",
        "os.makedirs(checkpoint_filepath, exist_ok=True)"
      ],
      "metadata": {
        "id": "pUK57ZhFjcAE",
        "outputId": "5b51de3c-b8b5-4c77-fb77-b8d78a341051",
        "colab": {
          "base_uri": "https://localhost:8080/"
        }
      },
      "execution_count": 10,
      "outputs": [
        {
          "output_type": "stream",
          "name": "stdout",
          "text": [
            "Creating Directory: /content/drive/MyDrive/model_checkpoint/\n"
          ]
        }
      ]
    },
    {
      "cell_type": "code",
      "source": [
        "custom_callbacks = [\n",
        "    EarlyStopping(\n",
        "        monitor = 'val_loss',\n",
        "        mode = 'min',\n",
        "        patience = 5,\n",
        "        verbose = 1\n",
        "    ),\n",
        "    ModelCheckpoint(\n",
        "        filepath = os.path.join(checkpoint_filepath, 'Rice_Leaf_Diseases.h5'),\n",
        "        monitor = 'val_loss',\n",
        "        mode = 'min',\n",
        "        verbose = 1,\n",
        "        save_best_only = True\n",
        "    )\n",
        "]"
      ],
      "metadata": {
        "id": "mMGRTR1Ti_yg"
      },
      "execution_count": 11,
      "outputs": []
    },
    {
      "cell_type": "markdown",
      "metadata": {
        "id": "SjwwpBfkdsNd"
      },
      "source": [
        "**7) Compile và train model**"
      ]
    },
    {
      "cell_type": "code",
      "metadata": {
        "colab": {
          "base_uri": "https://localhost:8080/"
        },
        "id": "D2P5qmTlaXc7",
        "outputId": "a73b17f6-88dd-406f-a30f-3652f6e88ee7"
      },
      "source": [
        "#compile + train\n",
        "opt = Adam(learning_rate=INIT_LR, decay=INIT_LR / EPOCHS)\n",
        "model.compile(loss=\"categorical_crossentropy\", optimizer=opt, metrics=[\"accuracy\"])\n",
        "H = model.fit(X_train, y_train, validation_data=(X_val, y_val), batch_size=BS,\n",
        "              steps_per_epoch=len(X_train) // BS, epochs=EPOCHS, callbacks = custom_callbacks)"
      ],
      "execution_count": 12,
      "outputs": [
        {
          "output_type": "stream",
          "name": "stdout",
          "text": [
            "Epoch 1/50\n",
            "81/81 [==============================] - ETA: 0s - loss: 1.0988 - accuracy: 0.3179\n",
            "Epoch 00001: val_loss improved from inf to 1.09750, saving model to /content/drive/MyDrive/model_checkpoint/Rice_Leaf_Diseases.h5\n",
            "81/81 [==============================] - 45s 383ms/step - loss: 1.0988 - accuracy: 0.3179 - val_loss: 1.0975 - val_accuracy: 0.3354\n",
            "Epoch 2/50\n",
            "81/81 [==============================] - ETA: 0s - loss: 1.0840 - accuracy: 0.4408\n",
            "Epoch 00002: val_loss improved from 1.09750 to 0.97368, saving model to /content/drive/MyDrive/model_checkpoint/Rice_Leaf_Diseases.h5\n",
            "81/81 [==============================] - 34s 387ms/step - loss: 1.0840 - accuracy: 0.4408 - val_loss: 0.9737 - val_accuracy: 0.5244\n",
            "Epoch 3/50\n",
            "81/81 [==============================] - ETA: 0s - loss: 0.9610 - accuracy: 0.5156\n",
            "Epoch 00003: val_loss improved from 0.97368 to 0.81160, saving model to /content/drive/MyDrive/model_checkpoint/Rice_Leaf_Diseases.h5\n",
            "81/81 [==============================] - 31s 387ms/step - loss: 0.9610 - accuracy: 0.5156 - val_loss: 0.8116 - val_accuracy: 0.5793\n",
            "Epoch 4/50\n",
            "81/81 [==============================] - ETA: 0s - loss: 0.8862 - accuracy: 0.5748\n",
            "Epoch 00004: val_loss improved from 0.81160 to 0.77550, saving model to /content/drive/MyDrive/model_checkpoint/Rice_Leaf_Diseases.h5\n",
            "81/81 [==============================] - 31s 384ms/step - loss: 0.8862 - accuracy: 0.5748 - val_loss: 0.7755 - val_accuracy: 0.6220\n",
            "Epoch 5/50\n",
            "81/81 [==============================] - ETA: 0s - loss: 0.8551 - accuracy: 0.5826\n",
            "Epoch 00005: val_loss improved from 0.77550 to 0.77213, saving model to /content/drive/MyDrive/model_checkpoint/Rice_Leaf_Diseases.h5\n",
            "81/81 [==============================] - 31s 385ms/step - loss: 0.8551 - accuracy: 0.5826 - val_loss: 0.7721 - val_accuracy: 0.5915\n",
            "Epoch 6/50\n",
            "81/81 [==============================] - ETA: 0s - loss: 0.8106 - accuracy: 0.6558\n",
            "Epoch 00006: val_loss did not improve from 0.77213\n",
            "81/81 [==============================] - 28s 340ms/step - loss: 0.8106 - accuracy: 0.6558 - val_loss: 0.8626 - val_accuracy: 0.5305\n",
            "Epoch 7/50\n",
            "81/81 [==============================] - ETA: 0s - loss: 0.7419 - accuracy: 0.7009\n",
            "Epoch 00007: val_loss improved from 0.77213 to 0.68763, saving model to /content/drive/MyDrive/model_checkpoint/Rice_Leaf_Diseases.h5\n",
            "81/81 [==============================] - 31s 385ms/step - loss: 0.7419 - accuracy: 0.7009 - val_loss: 0.6876 - val_accuracy: 0.6402\n",
            "Epoch 8/50\n",
            "81/81 [==============================] - ETA: 0s - loss: 0.7284 - accuracy: 0.7118\n",
            "Epoch 00008: val_loss improved from 0.68763 to 0.60928, saving model to /content/drive/MyDrive/model_checkpoint/Rice_Leaf_Diseases.h5\n",
            "81/81 [==============================] - 31s 386ms/step - loss: 0.7284 - accuracy: 0.7118 - val_loss: 0.6093 - val_accuracy: 0.7439\n",
            "Epoch 9/50\n",
            "81/81 [==============================] - ETA: 0s - loss: 0.6532 - accuracy: 0.7352\n",
            "Epoch 00009: val_loss improved from 0.60928 to 0.55970, saving model to /content/drive/MyDrive/model_checkpoint/Rice_Leaf_Diseases.h5\n",
            "81/81 [==============================] - 31s 386ms/step - loss: 0.6532 - accuracy: 0.7352 - val_loss: 0.5597 - val_accuracy: 0.7744\n",
            "Epoch 10/50\n",
            "81/81 [==============================] - ETA: 0s - loss: 0.5945 - accuracy: 0.7726\n",
            "Epoch 00010: val_loss improved from 0.55970 to 0.52172, saving model to /content/drive/MyDrive/model_checkpoint/Rice_Leaf_Diseases.h5\n",
            "81/81 [==============================] - 31s 386ms/step - loss: 0.5945 - accuracy: 0.7726 - val_loss: 0.5217 - val_accuracy: 0.7927\n",
            "Epoch 11/50\n",
            "81/81 [==============================] - ETA: 0s - loss: 0.5701 - accuracy: 0.7726\n",
            "Epoch 00011: val_loss improved from 0.52172 to 0.47615, saving model to /content/drive/MyDrive/model_checkpoint/Rice_Leaf_Diseases.h5\n",
            "81/81 [==============================] - 31s 384ms/step - loss: 0.5701 - accuracy: 0.7726 - val_loss: 0.4762 - val_accuracy: 0.8171\n",
            "Epoch 12/50\n",
            "81/81 [==============================] - ETA: 0s - loss: 0.5829 - accuracy: 0.7648\n",
            "Epoch 00012: val_loss improved from 0.47615 to 0.47544, saving model to /content/drive/MyDrive/model_checkpoint/Rice_Leaf_Diseases.h5\n",
            "81/81 [==============================] - 31s 385ms/step - loss: 0.5829 - accuracy: 0.7648 - val_loss: 0.4754 - val_accuracy: 0.8354\n",
            "Epoch 13/50\n",
            "81/81 [==============================] - ETA: 0s - loss: 0.5647 - accuracy: 0.7804\n",
            "Epoch 00013: val_loss improved from 0.47544 to 0.45716, saving model to /content/drive/MyDrive/model_checkpoint/Rice_Leaf_Diseases.h5\n",
            "81/81 [==============================] - 32s 391ms/step - loss: 0.5647 - accuracy: 0.7804 - val_loss: 0.4572 - val_accuracy: 0.8110\n",
            "Epoch 14/50\n",
            "81/81 [==============================] - ETA: 0s - loss: 0.4669 - accuracy: 0.8287\n",
            "Epoch 00014: val_loss improved from 0.45716 to 0.43786, saving model to /content/drive/MyDrive/model_checkpoint/Rice_Leaf_Diseases.h5\n",
            "81/81 [==============================] - 31s 388ms/step - loss: 0.4669 - accuracy: 0.8287 - val_loss: 0.4379 - val_accuracy: 0.8232\n",
            "Epoch 15/50\n",
            "81/81 [==============================] - ETA: 0s - loss: 0.4786 - accuracy: 0.8069\n",
            "Epoch 00015: val_loss improved from 0.43786 to 0.35292, saving model to /content/drive/MyDrive/model_checkpoint/Rice_Leaf_Diseases.h5\n",
            "81/81 [==============================] - 31s 384ms/step - loss: 0.4786 - accuracy: 0.8069 - val_loss: 0.3529 - val_accuracy: 0.8598\n",
            "Epoch 16/50\n",
            "81/81 [==============================] - ETA: 0s - loss: 0.4241 - accuracy: 0.8333\n",
            "Epoch 00016: val_loss improved from 0.35292 to 0.29650, saving model to /content/drive/MyDrive/model_checkpoint/Rice_Leaf_Diseases.h5\n",
            "81/81 [==============================] - 31s 386ms/step - loss: 0.4241 - accuracy: 0.8333 - val_loss: 0.2965 - val_accuracy: 0.8780\n",
            "Epoch 17/50\n",
            "81/81 [==============================] - ETA: 0s - loss: 0.3473 - accuracy: 0.8692\n",
            "Epoch 00017: val_loss did not improve from 0.29650\n",
            "81/81 [==============================] - 28s 341ms/step - loss: 0.3473 - accuracy: 0.8692 - val_loss: 0.4212 - val_accuracy: 0.7927\n",
            "Epoch 18/50\n",
            "81/81 [==============================] - ETA: 0s - loss: 0.3445 - accuracy: 0.8707\n",
            "Epoch 00018: val_loss improved from 0.29650 to 0.26652, saving model to /content/drive/MyDrive/model_checkpoint/Rice_Leaf_Diseases.h5\n",
            "81/81 [==============================] - 31s 385ms/step - loss: 0.3445 - accuracy: 0.8707 - val_loss: 0.2665 - val_accuracy: 0.8963\n",
            "Epoch 19/50\n",
            "81/81 [==============================] - ETA: 0s - loss: 0.2645 - accuracy: 0.9081\n",
            "Epoch 00019: val_loss improved from 0.26652 to 0.18797, saving model to /content/drive/MyDrive/model_checkpoint/Rice_Leaf_Diseases.h5\n",
            "81/81 [==============================] - 31s 386ms/step - loss: 0.2645 - accuracy: 0.9081 - val_loss: 0.1880 - val_accuracy: 0.9268\n",
            "Epoch 20/50\n",
            "81/81 [==============================] - ETA: 0s - loss: 0.2711 - accuracy: 0.9019\n",
            "Epoch 00020: val_loss improved from 0.18797 to 0.16900, saving model to /content/drive/MyDrive/model_checkpoint/Rice_Leaf_Diseases.h5\n",
            "81/81 [==============================] - 31s 383ms/step - loss: 0.2711 - accuracy: 0.9019 - val_loss: 0.1690 - val_accuracy: 0.9390\n",
            "Epoch 21/50\n",
            "81/81 [==============================] - ETA: 0s - loss: 0.2308 - accuracy: 0.9003\n",
            "Epoch 00021: val_loss did not improve from 0.16900\n",
            "81/81 [==============================] - 28s 341ms/step - loss: 0.2308 - accuracy: 0.9003 - val_loss: 0.1719 - val_accuracy: 0.9390\n",
            "Epoch 22/50\n",
            "81/81 [==============================] - ETA: 0s - loss: 0.1736 - accuracy: 0.9361\n",
            "Epoch 00022: val_loss improved from 0.16900 to 0.14275, saving model to /content/drive/MyDrive/model_checkpoint/Rice_Leaf_Diseases.h5\n",
            "81/81 [==============================] - 31s 387ms/step - loss: 0.1736 - accuracy: 0.9361 - val_loss: 0.1427 - val_accuracy: 0.9451\n",
            "Epoch 23/50\n",
            "81/81 [==============================] - ETA: 0s - loss: 0.1865 - accuracy: 0.9237\n",
            "Epoch 00023: val_loss improved from 0.14275 to 0.13533, saving model to /content/drive/MyDrive/model_checkpoint/Rice_Leaf_Diseases.h5\n",
            "81/81 [==============================] - 31s 387ms/step - loss: 0.1865 - accuracy: 0.9237 - val_loss: 0.1353 - val_accuracy: 0.9451\n",
            "Epoch 24/50\n",
            "81/81 [==============================] - ETA: 0s - loss: 0.1465 - accuracy: 0.9502\n",
            "Epoch 00024: val_loss improved from 0.13533 to 0.11256, saving model to /content/drive/MyDrive/model_checkpoint/Rice_Leaf_Diseases.h5\n",
            "81/81 [==============================] - 31s 387ms/step - loss: 0.1465 - accuracy: 0.9502 - val_loss: 0.1126 - val_accuracy: 0.9634\n",
            "Epoch 25/50\n",
            "81/81 [==============================] - ETA: 0s - loss: 0.1756 - accuracy: 0.9393\n",
            "Epoch 00025: val_loss did not improve from 0.11256\n",
            "81/81 [==============================] - 28s 341ms/step - loss: 0.1756 - accuracy: 0.9393 - val_loss: 0.3441 - val_accuracy: 0.8841\n",
            "Epoch 26/50\n",
            "81/81 [==============================] - ETA: 0s - loss: 0.1298 - accuracy: 0.9455\n",
            "Epoch 00026: val_loss did not improve from 0.11256\n",
            "81/81 [==============================] - 28s 340ms/step - loss: 0.1298 - accuracy: 0.9455 - val_loss: 0.1938 - val_accuracy: 0.9390\n",
            "Epoch 27/50\n",
            "81/81 [==============================] - ETA: 0s - loss: 0.0979 - accuracy: 0.9611\n",
            "Epoch 00027: val_loss did not improve from 0.11256\n",
            "81/81 [==============================] - 28s 340ms/step - loss: 0.0979 - accuracy: 0.9611 - val_loss: 0.1142 - val_accuracy: 0.9512\n",
            "Epoch 28/50\n",
            "81/81 [==============================] - ETA: 0s - loss: 0.1077 - accuracy: 0.9548\n",
            "Epoch 00028: val_loss improved from 0.11256 to 0.08789, saving model to /content/drive/MyDrive/model_checkpoint/Rice_Leaf_Diseases.h5\n",
            "81/81 [==============================] - 31s 385ms/step - loss: 0.1077 - accuracy: 0.9548 - val_loss: 0.0879 - val_accuracy: 0.9634\n",
            "Epoch 29/50\n",
            "81/81 [==============================] - ETA: 0s - loss: 0.0740 - accuracy: 0.9704\n",
            "Epoch 00029: val_loss improved from 0.08789 to 0.08350, saving model to /content/drive/MyDrive/model_checkpoint/Rice_Leaf_Diseases.h5\n",
            "81/81 [==============================] - 31s 387ms/step - loss: 0.0740 - accuracy: 0.9704 - val_loss: 0.0835 - val_accuracy: 0.9634\n",
            "Epoch 30/50\n",
            "81/81 [==============================] - ETA: 0s - loss: 0.1819 - accuracy: 0.9346\n",
            "Epoch 00030: val_loss did not improve from 0.08350\n",
            "81/81 [==============================] - 28s 341ms/step - loss: 0.1819 - accuracy: 0.9346 - val_loss: 0.6620 - val_accuracy: 0.7195\n",
            "Epoch 31/50\n",
            "81/81 [==============================] - ETA: 0s - loss: 0.1919 - accuracy: 0.9268\n",
            "Epoch 00031: val_loss did not improve from 0.08350\n",
            "81/81 [==============================] - 27s 340ms/step - loss: 0.1919 - accuracy: 0.9268 - val_loss: 0.1105 - val_accuracy: 0.9573\n",
            "Epoch 32/50\n",
            "81/81 [==============================] - ETA: 0s - loss: 0.1100 - accuracy: 0.9517\n",
            "Epoch 00032: val_loss did not improve from 0.08350\n",
            "81/81 [==============================] - 27s 340ms/step - loss: 0.1100 - accuracy: 0.9517 - val_loss: 0.2189 - val_accuracy: 0.9207\n",
            "Epoch 33/50\n",
            "81/81 [==============================] - ETA: 0s - loss: 0.0836 - accuracy: 0.9673\n",
            "Epoch 00033: val_loss did not improve from 0.08350\n",
            "81/81 [==============================] - 28s 340ms/step - loss: 0.0836 - accuracy: 0.9673 - val_loss: 0.1016 - val_accuracy: 0.9634\n",
            "Epoch 34/50\n",
            "81/81 [==============================] - ETA: 0s - loss: 0.0458 - accuracy: 0.9782\n",
            "Epoch 00034: val_loss improved from 0.08350 to 0.07119, saving model to /content/drive/MyDrive/model_checkpoint/Rice_Leaf_Diseases.h5\n",
            "81/81 [==============================] - 31s 383ms/step - loss: 0.0458 - accuracy: 0.9782 - val_loss: 0.0712 - val_accuracy: 0.9756\n",
            "Epoch 35/50\n",
            "81/81 [==============================] - ETA: 0s - loss: 0.2090 - accuracy: 0.9439\n",
            "Epoch 00035: val_loss did not improve from 0.07119\n",
            "81/81 [==============================] - 28s 340ms/step - loss: 0.2090 - accuracy: 0.9439 - val_loss: 0.1532 - val_accuracy: 0.9451\n",
            "Epoch 36/50\n",
            "81/81 [==============================] - ETA: 0s - loss: 0.0666 - accuracy: 0.9766\n",
            "Epoch 00036: val_loss improved from 0.07119 to 0.05982, saving model to /content/drive/MyDrive/model_checkpoint/Rice_Leaf_Diseases.h5\n",
            "81/81 [==============================] - 31s 385ms/step - loss: 0.0666 - accuracy: 0.9766 - val_loss: 0.0598 - val_accuracy: 0.9695\n",
            "Epoch 37/50\n",
            "81/81 [==============================] - ETA: 0s - loss: 0.0578 - accuracy: 0.9766\n",
            "Epoch 00037: val_loss improved from 0.05982 to 0.05437, saving model to /content/drive/MyDrive/model_checkpoint/Rice_Leaf_Diseases.h5\n",
            "81/81 [==============================] - 32s 394ms/step - loss: 0.0578 - accuracy: 0.9766 - val_loss: 0.0544 - val_accuracy: 0.9695\n",
            "Epoch 38/50\n",
            "81/81 [==============================] - ETA: 0s - loss: 0.0683 - accuracy: 0.9782\n",
            "Epoch 00038: val_loss did not improve from 0.05437\n",
            "81/81 [==============================] - 28s 341ms/step - loss: 0.0683 - accuracy: 0.9782 - val_loss: 0.0707 - val_accuracy: 0.9817\n",
            "Epoch 39/50\n",
            "81/81 [==============================] - ETA: 0s - loss: 0.0446 - accuracy: 0.9860\n",
            "Epoch 00039: val_loss did not improve from 0.05437\n",
            "81/81 [==============================] - 28s 341ms/step - loss: 0.0446 - accuracy: 0.9860 - val_loss: 0.0545 - val_accuracy: 0.9817\n",
            "Epoch 40/50\n",
            "81/81 [==============================] - ETA: 0s - loss: 0.0528 - accuracy: 0.9813\n",
            "Epoch 00040: val_loss did not improve from 0.05437\n",
            "81/81 [==============================] - 28s 341ms/step - loss: 0.0528 - accuracy: 0.9813 - val_loss: 0.0572 - val_accuracy: 0.9756\n",
            "Epoch 41/50\n",
            "81/81 [==============================] - ETA: 0s - loss: 0.0312 - accuracy: 0.9922\n",
            "Epoch 00041: val_loss improved from 0.05437 to 0.03793, saving model to /content/drive/MyDrive/model_checkpoint/Rice_Leaf_Diseases.h5\n",
            "81/81 [==============================] - 31s 386ms/step - loss: 0.0312 - accuracy: 0.9922 - val_loss: 0.0379 - val_accuracy: 0.9817\n",
            "Epoch 42/50\n",
            "81/81 [==============================] - ETA: 0s - loss: 0.2125 - accuracy: 0.9361\n",
            "Epoch 00042: val_loss did not improve from 0.03793\n",
            "81/81 [==============================] - 28s 342ms/step - loss: 0.2125 - accuracy: 0.9361 - val_loss: 0.0958 - val_accuracy: 0.9573\n",
            "Epoch 43/50\n",
            "81/81 [==============================] - ETA: 0s - loss: 0.0546 - accuracy: 0.9813\n",
            "Epoch 00043: val_loss did not improve from 0.03793\n",
            "81/81 [==============================] - 28s 340ms/step - loss: 0.0546 - accuracy: 0.9813 - val_loss: 0.0711 - val_accuracy: 0.9817\n",
            "Epoch 44/50\n",
            "81/81 [==============================] - ETA: 0s - loss: 0.0442 - accuracy: 0.9860\n",
            "Epoch 00044: val_loss improved from 0.03793 to 0.03085, saving model to /content/drive/MyDrive/model_checkpoint/Rice_Leaf_Diseases.h5\n",
            "81/81 [==============================] - 31s 386ms/step - loss: 0.0442 - accuracy: 0.9860 - val_loss: 0.0309 - val_accuracy: 0.9878\n",
            "Epoch 45/50\n",
            "81/81 [==============================] - ETA: 0s - loss: 0.0250 - accuracy: 0.9922\n",
            "Epoch 00045: val_loss did not improve from 0.03085\n",
            "81/81 [==============================] - 28s 341ms/step - loss: 0.0250 - accuracy: 0.9922 - val_loss: 0.0360 - val_accuracy: 0.9817\n",
            "Epoch 46/50\n",
            "81/81 [==============================] - ETA: 0s - loss: 0.0111 - accuracy: 1.0000\n",
            "Epoch 00046: val_loss did not improve from 0.03085\n",
            "81/81 [==============================] - 28s 341ms/step - loss: 0.0111 - accuracy: 1.0000 - val_loss: 0.0381 - val_accuracy: 0.9878\n",
            "Epoch 47/50\n",
            "81/81 [==============================] - ETA: 0s - loss: 0.0084 - accuracy: 0.9984\n",
            "Epoch 00047: val_loss did not improve from 0.03085\n",
            "81/81 [==============================] - 28s 341ms/step - loss: 0.0084 - accuracy: 0.9984 - val_loss: 0.0435 - val_accuracy: 0.9817\n",
            "Epoch 48/50\n",
            "81/81 [==============================] - ETA: 0s - loss: 0.0737 - accuracy: 0.9813\n",
            "Epoch 00048: val_loss did not improve from 0.03085\n",
            "81/81 [==============================] - 28s 340ms/step - loss: 0.0737 - accuracy: 0.9813 - val_loss: 0.0868 - val_accuracy: 0.9573\n",
            "Epoch 49/50\n",
            "81/81 [==============================] - ETA: 0s - loss: 0.0352 - accuracy: 0.9813\n",
            "Epoch 00049: val_loss did not improve from 0.03085\n",
            "81/81 [==============================] - 28s 340ms/step - loss: 0.0352 - accuracy: 0.9813 - val_loss: 0.0326 - val_accuracy: 0.9939\n",
            "Epoch 00049: early stopping\n"
          ]
        }
      ]
    },
    {
      "cell_type": "markdown",
      "metadata": {
        "id": "_r48Dz-FdzOz"
      },
      "source": [
        "**8) Đồ thị**"
      ]
    },
    {
      "cell_type": "code",
      "metadata": {
        "colab": {
          "base_uri": "https://localhost:8080/",
          "height": 282
        },
        "id": "g_J-BxdYruY5",
        "outputId": "b4220b34-f296-49f9-9fc3-3dd6990ea90d"
      },
      "source": [
        "#do thi\n",
        "import matplotlib.pyplot as plt\n",
        "\n",
        "plt.plot(np.arange(0, 49), H.history['accuracy'], label = 'accuracy')\n",
        "plt.plot(np.arange(0, 49), H.history['val_accuracy'], label = 'val_accuracy')\n",
        "plt.xlabel('Epoch')\n",
        "plt.ylabel('Accuracy')\n",
        "plt.ylim([0, 1])\n",
        "plt.legend()\n",
        "plt.show()"
      ],
      "execution_count": 16,
      "outputs": [
        {
          "output_type": "display_data",
          "data": {
            "image/png": "[encoded data removed]",
            "text/plain": [
              "<Figure size 432x288 with 1 Axes>"
            ]
          },
          "metadata": {
            "needs_background": "light"
          }
        }
      ]
    },
    {
      "cell_type": "code",
      "source": [
        "#do thi\n",
        "import matplotlib.pyplot as plt\n",
        "\n",
        "plt.plot(np.arange(0, 49), H.history['loss'], label='loss')\n",
        "plt.plot(np.arange(0, 49), H.history['val_loss'], label='val_loss')\n",
        "plt.xlabel('Epoch')\n",
        "plt.ylabel('Loss')\n",
        "plt.legend()\n",
        "plt.show()"
      ],
      "metadata": {
        "colab": {
          "base_uri": "https://localhost:8080/",
          "height": 278
        },
        "id": "j-bU4QHpkJFe",
        "outputId": "97998ebf-b21b-4bfe-f854-89a0715087e6"
      },
      "execution_count": 17,
      "outputs": [
        {
          "output_type": "display_data",
          "data": {
            "image/png": "[encoded data removed]",
            "text/plain": [
              "<Figure size 432x288 with 1 Axes>"
            ]
          },
          "metadata": {
            "needs_background": "light"
          }
        }
      ]
    },
    {
      "cell_type": "markdown",
      "metadata": {
        "id": "xh44itD_RemC"
      },
      "source": [
        "**Đánh giá**\n",
        "\n",
        "---\n",
        "\n",
        "\n",
        "\n",
        "---\n",
        "\n"
      ]
    },
    {
      "cell_type": "code",
      "metadata": {
        "id": "DyQkcBRtOxMM"
      },
      "source": [
        "from keras.models import load_model\n",
        "\n",
        "model1 = load_model('/content/drive/MyDrive/model_checkpoint/Rice_Leaf_Diseases.h5')"
      ],
      "execution_count": 18,
      "outputs": []
    },
    {
      "cell_type": "code",
      "metadata": {
        "colab": {
          "base_uri": "https://localhost:8080/"
        },
        "id": "cPOHbbutPKOd",
        "outputId": "abf7b2c5-2301-4368-b80a-4644b7e8d914"
      },
      "source": [
        "score_train = model.evaluate(X_train, y_train)\n",
        "print('Score train = ', score_train)"
      ],
      "execution_count": 19,
      "outputs": [
        {
          "output_type": "stream",
          "name": "stdout",
          "text": [
            "21/21 [==============================] - 18s 401ms/step - loss: 0.0057 - accuracy: 1.0000\n",
            "Score train =  [0.005676961503922939, 1.0]\n"
          ]
        }
      ]
    },
    {
      "cell_type": "markdown",
      "metadata": {
        "id": "Fv3CiC2GZPMV"
      },
      "source": [
        "**6) Bảng thống kê các giá trị phân loại**\n",
        "\n",
        "\n",
        "> Accuracy = (TP+TN)/(TP+FP+FN+TN)\n",
        "\n",
        "> Precision = TP/(TP+FP)\n",
        "\n",
        "> Recall = TP/(TP+FN)\n",
        "\n",
        "> F1 Score = 2(Recall * Precision) / (Recall + Precision)\n",
        "\n",
        "\n",
        "\n",
        "\n",
        "\n",
        "\n",
        "\n",
        "\n",
        "\n",
        "\n",
        "\n",
        "\n",
        "\n",
        "\n",
        "\n"
      ]
    },
    {
      "cell_type": "code",
      "metadata": {
        "colab": {
          "base_uri": "https://localhost:8080/"
        },
        "id": "BPgPI6mUpVRY",
        "outputId": "947a43f0-fbab-4bf6-de5e-5b1a906a6791"
      },
      "source": [
        "y_pred_train = model.predict(X_train)\n",
        "from sklearn.metrics import classification_report\n",
        "print(classification_report(y_train.argmax(axis=1), y_pred_train.argmax(axis=1), target_names=le.classes_, digits = 6))"
      ],
      "execution_count": 20,
      "outputs": [
        {
          "output_type": "stream",
          "name": "stdout",
          "text": [
            "                       precision    recall  f1-score   support\n",
            "\n",
            "Bacterial leaf blight   1.000000  1.000000  1.000000       218\n",
            "           Brown spot   1.000000  1.000000  1.000000       218\n",
            "            Leaf smut   1.000000  1.000000  1.000000       214\n",
            "\n",
            "             accuracy                       1.000000       650\n",
            "            macro avg   1.000000  1.000000  1.000000       650\n",
            "         weighted avg   1.000000  1.000000  1.000000       650\n",
            "\n"
          ]
        }
      ]
    },
    {
      "cell_type": "code",
      "metadata": {
        "colab": {
          "base_uri": "https://localhost:8080/"
        },
        "id": "MeoYHUsqRnEZ",
        "outputId": "fcb25bb0-ad17-4ff7-9abe-7d8e4c9cccf5"
      },
      "source": [
        "trainY = np.argmax(y_train, axis=1).ravel()\n",
        "predtrainY = np.argmax(y_pred_train, axis=1).ravel()\n",
        "from sklearn.metrics import confusion_matrix\n",
        "cnf_matrix = confusion_matrix(trainY, predtrainY)\n",
        "print(cnf_matrix)"
      ],
      "execution_count": 21,
      "outputs": [
        {
          "output_type": "stream",
          "name": "stdout",
          "text": [
            "[[218   0   0]\n",
            " [  0 218   0]\n",
            " [  0   0 214]]\n"
          ]
        }
      ]
    },
    {
      "cell_type": "code",
      "metadata": {
        "colab": {
          "base_uri": "https://localhost:8080/",
          "height": 605
        },
        "id": "t_TtglJ-S4qm",
        "outputId": "f9e22ac2-1866-480f-85a8-cbf58a4f15e1"
      },
      "source": [
        "import matplotlib.pyplot as plt\n",
        "import itertools\n",
        "def plot_confusion_matrix(cm, classes,\n",
        "                          normalize=False,\n",
        "                          title='Confusion matrix',\n",
        "                          cmap=plt.cm.Blues):\n",
        "    \"\"\"\n",
        "    This function prints and plots the confusion matrix.\n",
        "    Normalization can be applied by setting `normalize=True`.\n",
        "    \"\"\"\n",
        "    if normalize:\n",
        "        cm = cm.astype('float') / cm.sum(axis=1, keepdims = True)\n",
        "\n",
        "    plt.imshow(cm, interpolation='nearest', cmap=cmap)\n",
        "    plt.title(title)\n",
        "    plt.colorbar()\n",
        "    tick_marks = np.arange(len(classes))\n",
        "    plt.xticks(tick_marks, classes, rotation=45)\n",
        "    plt.yticks(tick_marks, classes)\n",
        "\n",
        "    fmt = '.5f' if normalize else 'd'\n",
        "    thresh = cm.max() / 2.\n",
        "    for i, j in itertools.product(range(cm.shape[0]), range(cm.shape[1])):\n",
        "        plt.text(j, i, format(cm[i, j], fmt),\n",
        "                 horizontalalignment=\"center\",\n",
        "                 color=\"white\" if cm[i, j] > thresh else \"black\")\n",
        "\n",
        "    plt.tight_layout()\n",
        "    plt.ylabel('True label')\n",
        "    plt.xlabel('Predicted label')\n",
        "\n",
        "# Plot non-normalized confusion matrix\n",
        "class_names = [0, 1, 2]\n",
        "plt.figure()\n",
        "plot_confusion_matrix(cnf_matrix, classes=class_names,\n",
        "                      title='Confusion matrix, without normalization')\n",
        "\n",
        "# Plot normalized confusion matrix\n",
        "plt.figure()\n",
        "plot_confusion_matrix(cnf_matrix, classes=class_names, normalize=True,\n",
        "                      title='Normalized confusion matrix')\n",
        "\n",
        "plt.show()"
      ],
      "execution_count": 22,
      "outputs": [
        {
          "output_type": "display_data",
          "data": {
            "image/png": "[encoded data removed]",
            "text/plain": [
              "<Figure size 432x288 with 2 Axes>"
            ]
          },
          "metadata": {
            "needs_background": "light"
          }
        },
        {
          "output_type": "display_data",
          "data": {
            "image/png": "[encoded data removed]",
            "text/plain": [
              "<Figure size 432x288 with 2 Axes>"
            ]
          },
          "metadata": {
            "needs_background": "light"
          }
        }
      ]
    },
    {
      "cell_type": "code",
      "source": [
        "#khoi tao input\n",
        "imagePaths_test = list(paths.list_images('/content/rice_disease/test'))\n",
        "data_test = []\n",
        "labels_test = []\n",
        "\n",
        "for imagePath_test in imagePaths_test:\n",
        "    label_test = imagePath_test.split(os.path.sep)[-2]\n",
        "    image_test = cv2.imread(imagePath_test)\n",
        "    image_test = cv2.resize(image_test, (224,224))\n",
        "    data_test.append(image_test)\n",
        "    labels_test.append(label_test)\n",
        "data_test = np.array(data_test, dtype=\"float\") / 255.0\n",
        "#one-hot label\n",
        "le_test = LabelEncoder()\n",
        "labels_test = le_test.fit_transform(labels_test)\n",
        "labels_test = np_utils.to_categorical(labels_test, 3)"
      ],
      "metadata": {
        "id": "H3pU4AydlhFK"
      },
      "execution_count": 23,
      "outputs": []
    },
    {
      "cell_type": "code",
      "source": [
        "X_test = data_test\n",
        "y_test = labels_test"
      ],
      "metadata": {
        "id": "pRXVvtOOl2bS"
      },
      "execution_count": 24,
      "outputs": []
    },
    {
      "cell_type": "code",
      "metadata": {
        "colab": {
          "base_uri": "https://localhost:8080/"
        },
        "outputId": "2211fb5b-bd3f-428d-dd8e-f27efd8d7bf4",
        "id": "g_uIYQjKlyZ1"
      },
      "source": [
        "score_test = model.evaluate(X_test, y_test)\n",
        "print('Score test = ', score_test)"
      ],
      "execution_count": 25,
      "outputs": [
        {
          "output_type": "stream",
          "name": "stdout",
          "text": [
            "2/2 [==============================] - 5s 5s/step - loss: 3.2591 - accuracy: 0.7111\n",
            "Score test =  [3.2590692043304443, 0.7111111283302307]\n"
          ]
        }
      ]
    },
    {
      "cell_type": "code",
      "metadata": {
        "colab": {
          "base_uri": "https://localhost:8080/"
        },
        "outputId": "8f641bac-df71-465a-a926-59068147f124",
        "id": "YhXzBtgblyZ2"
      },
      "source": [
        "y_pred_test = model.predict(X_test)\n",
        "from sklearn.metrics import classification_report\n",
        "print(classification_report(y_test.argmax(axis=1), y_pred_test.argmax(axis=1), target_names=le.classes_, digits = 6))"
      ],
      "execution_count": 26,
      "outputs": [
        {
          "output_type": "stream",
          "name": "stdout",
          "text": [
            "                       precision    recall  f1-score   support\n",
            "\n",
            "Bacterial leaf blight   0.916667  0.733333  0.814815        15\n",
            "           Brown spot   0.642857  0.600000  0.620690        15\n",
            "            Leaf smut   0.631579  0.800000  0.705882        15\n",
            "\n",
            "             accuracy                       0.711111        45\n",
            "            macro avg   0.730368  0.711111  0.713796        45\n",
            "         weighted avg   0.730368  0.711111  0.713796        45\n",
            "\n"
          ]
        }
      ]
    },
    {
      "cell_type": "code",
      "metadata": {
        "colab": {
          "base_uri": "https://localhost:8080/"
        },
        "outputId": "e926365f-6a8b-4a18-93de-9338ae385241",
        "id": "2Wds5P-rlyZ2"
      },
      "source": [
        "testY = np.argmax(y_test, axis=1).ravel()\n",
        "predtestY = np.argmax(y_pred_test, axis=1).ravel()\n",
        "from sklearn.metrics import confusion_matrix\n",
        "cnf_matrix = confusion_matrix(testY, predtestY)\n",
        "print(cnf_matrix)"
      ],
      "execution_count": 27,
      "outputs": [
        {
          "output_type": "stream",
          "name": "stdout",
          "text": [
            "[[11  2  2]\n",
            " [ 1  9  5]\n",
            " [ 0  3 12]]\n"
          ]
        }
      ]
    },
    {
      "cell_type": "code",
      "metadata": {
        "colab": {
          "base_uri": "https://localhost:8080/",
          "height": 605
        },
        "outputId": "53761b9a-29ed-4b2a-adc9-4d113e9d50cd",
        "id": "Z6a4RaIxlyZ3"
      },
      "source": [
        "import matplotlib.pyplot as plt\n",
        "import itertools\n",
        "def plot_confusion_matrix(cm, classes,\n",
        "                          normalize=False,\n",
        "                          title='Confusion matrix',\n",
        "                          cmap=plt.cm.Blues):\n",
        "    \"\"\"\n",
        "    This function prints and plots the confusion matrix.\n",
        "    Normalization can be applied by setting `normalize=True`.\n",
        "    \"\"\"\n",
        "    if normalize:\n",
        "        cm = cm.astype('float') / cm.sum(axis=1, keepdims = True)\n",
        "\n",
        "    plt.imshow(cm, interpolation='nearest', cmap=cmap)\n",
        "    plt.title(title)\n",
        "    plt.colorbar()\n",
        "    tick_marks = np.arange(len(classes))\n",
        "    plt.xticks(tick_marks, classes, rotation=45)\n",
        "    plt.yticks(tick_marks, classes)\n",
        "\n",
        "    fmt = '.5f' if normalize else 'd'\n",
        "    thresh = cm.max() / 2.\n",
        "    for i, j in itertools.product(range(cm.shape[0]), range(cm.shape[1])):\n",
        "        plt.text(j, i, format(cm[i, j], fmt),\n",
        "                 horizontalalignment=\"center\",\n",
        "                 color=\"white\" if cm[i, j] > thresh else \"black\")\n",
        "\n",
        "    plt.tight_layout()\n",
        "    plt.ylabel('True label')\n",
        "    plt.xlabel('Predicted label')\n",
        "\n",
        "# Plot non-normalized confusion matrix\n",
        "class_names = [0, 1, 2]\n",
        "plt.figure()\n",
        "plot_confusion_matrix(cnf_matrix, classes=class_names,\n",
        "                      title='Confusion matrix, without normalization')\n",
        "\n",
        "# Plot normalized confusion matrix\n",
        "plt.figure()\n",
        "plot_confusion_matrix(cnf_matrix, classes=class_names, normalize=True,\n",
        "                      title='Normalized confusion matrix')\n",
        "\n",
        "plt.show()"
      ],
      "execution_count": 28,
      "outputs": [
        {
          "output_type": "display_data",
          "data": {
            "image/png": "[encoded data removed]",
            "text/plain": [
              "<Figure size 432x288 with 2 Axes>"
            ]
          },
          "metadata": {
            "needs_background": "light"
          }
        },
        {
          "output_type": "display_data",
          "data": {
            "image/png": "[encoded data removed]",
            "text/plain": [
              "<Figure size 432x288 with 2 Axes>"
            ]
          },
          "metadata": {
            "needs_background": "light"
          }
        }
      ]
    },
    {
      "cell_type": "code",
      "source": [
        "def define_label(x):\n",
        "  if x == 0:\n",
        "    return 'Loại bệnh: Bacterial Leaf Blight'\n",
        "  if x == 1:\n",
        "    return 'Loại bệnh: Brown spot'\n",
        "  if x == 2:\n",
        "    return 'Loại bệnh: Leaf smut'"
      ],
      "metadata": {
        "id": "R7jrOCf2mc-Y"
      },
      "execution_count": 29,
      "outputs": []
    },
    {
      "cell_type": "code",
      "source": [
        "import glob\n",
        "folder = glob.glob('/content/drive/MyDrive/external/*.*')\n",
        "for file in folder:\n",
        "  img = cv2.imread(file)\n",
        "  img = cv2.resize(img,(224,224))\n",
        "  cv2_imshow(img)\n",
        "  img = img.reshape(1,224,224,3)\n",
        "  data_leaf = np.array(img, dtype = 'float') /255.0\n",
        "  one = model.predict(data_leaf)\n",
        "  print(one)\n",
        "  x = np.argmax(one)\n",
        "  print(x)\n",
        "  print(define_label(x))"
      ],
      "metadata": {
        "colab": {
          "base_uri": "https://localhost:8080/",
          "height": 1000
        },
        "id": "pzU0KiEQnOBD",
        "outputId": "9cfafc67-e0ae-480f-9a23-38c2782439e5"
      },
      "execution_count": 30,
      "outputs": [
        {
          "output_type": "display_data",
          "data": {
            "image/png": "[encoded data removed]",
            "text/plain": [
              "<PIL.Image.Image image mode=RGB size=224x224 at 0x7FA442CBF450>"
            ]
          },
          "metadata": {}
        },
        {
          "output_type": "stream",
          "name": "stdout",
          "text": [
            "[[1.8064640e-11 9.9999964e-01 3.2149393e-07]]\n",
            "1\n",
            "Loại bệnh: Brown spot\n"
          ]
        },
        {
          "output_type": "display_data",
          "data": {
            "image/png": "[encoded data removed]",
            "text/plain": [
              "<PIL.Image.Image image mode=RGB size=224x224 at 0x7FA442C03BD0>"
            ]
          },
          "metadata": {}
        },
        {
          "output_type": "stream",
          "name": "stdout",
          "text": [
            "[[1.0000000e+00 3.4099426e-16 6.6677412e-16]]\n",
            "0\n",
            "Loại bệnh: Bacterial Leaf Blight\n"
          ]
        },
        {
          "output_type": "display_data",
          "data": {
            "image/png": "[encoded data removed]",
            "text/plain": [
              "<PIL.Image.Image image mode=RGB size=224x224 at 0x7FA442D52390>"
            ]
          },
          "metadata": {}
        },
        {
          "output_type": "stream",
          "name": "stdout",
          "text": [
            "[[0.00508466 0.5697312  0.42518416]]\n",
            "1\n",
            "Loại bệnh: Brown spot\n"
          ]
        },
        {
          "output_type": "display_data",
          "data": {
            "image/png": "[encoded data removed]",
            "text/plain": [
              "<PIL.Image.Image image mode=RGB size=224x224 at 0x7FA442C03650>"
            ]
          },
          "metadata": {}
        },
        {
          "output_type": "stream",
          "name": "stdout",
          "text": [
            "[[5.8297837e-18 1.0000000e+00 1.7455801e-15]]\n",
            "1\n",
            "Loại bệnh: Brown spot\n"
          ]
        }
      ]
    },
    {
      "cell_type": "code",
      "source": [
        ""
      ],
      "metadata": {
        "id": "Be3RPwPRn6Kg"
      },
      "execution_count": 30,
      "outputs": []
    }
  ]
}